{
  "nbformat": 4,
  "nbformat_minor": 0,
  "metadata": {
    "colab": {
      "name": "Capstone_Eng_Py_Using_Python_Embedding_S14_5.ipynb",
      "provenance": [],
      "collapsed_sections": []
    },
    "kernelspec": {
      "display_name": "Python 3",
      "name": "python3"
    },
    "accelerator": "GPU"
  },
  "cells": [
    {
      "cell_type": "markdown",
      "metadata": {
        "id": "Yuh5BPAtButa"
      },
      "source": [
        "![](https://raw.githubusercontent.com/bentrevett/pytorch-seq2seq/9479fcb532214ad26fd4bda9fcf081a05e1aaf4e/assets/transformer1.png)"
      ]
    },
    {
      "cell_type": "code",
      "metadata": {
        "id": "HLiho8WefIsw",
        "colab": {
          "base_uri": "https://localhost:8080/"
        },
        "outputId": "b519e000-321a-4a13-d31f-e4e8a6f03e1c"
      },
      "source": [
        "from google.colab import drive\n",
        "drive.mount('/content/drive')"
      ],
      "execution_count": null,
      "outputs": [
        {
          "output_type": "stream",
          "text": [
            "Mounted at /content/drive\n"
          ],
          "name": "stdout"
        }
      ]
    },
    {
      "cell_type": "code",
      "metadata": {
        "colab": {
          "base_uri": "https://localhost:8080/"
        },
        "id": "53dGhTXC9-oI",
        "outputId": "493d7926-ac48-42b6-ec53-2dbc9f54c045"
      },
      "source": [
        "cd /content/drive/MyDrive/ENDProgram/Session14_5/Embedding_Model"
      ],
      "execution_count": null,
      "outputs": [
        {
          "output_type": "stream",
          "text": [
            "/content/drive/MyDrive/ENDProgram/Session14_5/Embedding_Model\n"
          ],
          "name": "stdout"
        }
      ]
    },
    {
      "cell_type": "code",
      "metadata": {
        "colab": {
          "base_uri": "https://localhost:8080/"
        },
        "id": "KEtOO2U60eqC",
        "outputId": "4d2aa6fe-bb57-4f4c-ca03-f72b160610e1"
      },
      "source": [
        "!ls"
      ],
      "execution_count": null,
      "outputs": [
        {
          "output_type": "stream",
          "text": [
            "custom_embeddings.txt  Session14_Embedding_100.pt.gz\n"
          ],
          "name": "stdout"
        }
      ]
    },
    {
      "cell_type": "code",
      "metadata": {
        "colab": {
          "base_uri": "https://localhost:8080/"
        },
        "id": "Q5ReMaAv_EDZ",
        "outputId": "d6fb09ca-ee47-4410-e5ae-fc9f5840f908"
      },
      "source": [
        "cd /content/drive/MyDrive/ENDProgram/Session14_5/Embedding_Model"
      ],
      "execution_count": null,
      "outputs": [
        {
          "output_type": "stream",
          "text": [
            "/content/drive/MyDrive/ENDProgram/Session14_5/Embedding_Model\n"
          ],
          "name": "stdout"
        }
      ]
    },
    {
      "cell_type": "code",
      "metadata": {
        "colab": {
          "base_uri": "https://localhost:8080/"
        },
        "id": "S6gYnMxB_FvO",
        "outputId": "54c354f2-9cdc-479f-ab4f-228749a6bb6b"
      },
      "source": [
        "!ls"
      ],
      "execution_count": null,
      "outputs": [
        {
          "output_type": "stream",
          "text": [
            "custom_embeddings.txt  Session14_Embedding_100.pt.gz\n"
          ],
          "name": "stdout"
        }
      ]
    },
    {
      "cell_type": "code",
      "metadata": {
        "id": "kneZklmX-Grz",
        "colab": {
          "base_uri": "https://localhost:8080/"
        },
        "outputId": "073b8d81-0c92-471d-9d12-b284941d3b12"
      },
      "source": [
        "import torchtext.vocab as vocab\n",
        "custom_embeddings = vocab.Vectors(name = 'custom_embeddings.txt',max_vectors=256)\n",
        "print(custom_embeddings['def'])"
      ],
      "execution_count": null,
      "outputs": [
        {
          "output_type": "stream",
          "text": [
            "  0%|          | 0/256 [00:00<?, ?it/s]"
          ],
          "name": "stderr"
        },
        {
          "output_type": "stream",
          "text": [
            "tensor([-5.2362e-02,  7.8206e-01,  7.1496e-01, -9.8432e-01,  6.4427e-02,\n",
            "        -5.3539e-01,  3.1381e-01, -8.6770e-02, -4.0705e-01, -7.9263e-02,\n",
            "        -2.5399e-01,  3.9117e-01, -6.4193e-01,  2.5034e-01,  9.4006e-01,\n",
            "        -2.1077e-01,  3.4258e-01,  8.3504e-01,  4.0888e-02, -2.0412e-02,\n",
            "        -1.2502e-01,  8.4559e-01, -2.4167e-01,  6.1693e-01, -2.2515e-01,\n",
            "         1.5271e-02,  1.3104e-01, -2.2455e-01,  2.9018e-01,  1.7545e-01,\n",
            "         4.2658e-02, -4.1541e-02, -5.0558e-01,  3.2415e-01, -4.9327e-01,\n",
            "         1.1162e-01,  4.9193e-02,  4.2233e-01, -9.6319e-01, -8.4217e-01,\n",
            "        -3.2287e-01,  8.3046e-01,  1.0168e+00,  4.8940e-01, -9.3517e-01,\n",
            "        -3.1756e-01,  8.1356e-01, -9.0556e-01,  6.2988e-01, -3.2427e-01,\n",
            "        -5.1516e-01, -1.5037e-01, -6.3381e-02, -2.2128e-01,  8.7291e-01,\n",
            "         5.3517e-01, -1.9069e-01,  1.8353e-01, -1.0437e+00,  1.4766e-02,\n",
            "        -6.4516e-01,  7.0431e-01,  7.4278e-01, -5.5783e-02, -1.0064e-01,\n",
            "        -4.9490e-01, -9.4016e-01,  1.5503e-01,  1.3791e-01,  1.1178e-02,\n",
            "        -7.0684e-01,  2.9916e-01, -8.5587e-01,  2.1003e-01,  6.4352e-01,\n",
            "        -2.5571e-01,  7.6196e-02, -9.0473e-01, -1.1748e-01, -2.8317e-01,\n",
            "        -9.4007e-01, -6.7819e-01, -1.5425e-01,  2.5879e-01, -9.4593e-03,\n",
            "        -1.8735e-01,  3.5363e-01, -1.3095e-02, -1.8115e-01, -8.7378e-02,\n",
            "         1.5140e-01, -4.2511e-01, -8.7747e-01, -4.6749e-02, -3.4694e-01,\n",
            "         7.3201e-01, -5.5584e-01, -7.7601e-01,  2.3699e-01,  6.0448e-01,\n",
            "        -6.1600e-01,  1.8999e-02, -5.9878e-01,  5.9783e-01,  1.4651e-01,\n",
            "        -1.1142e-01, -9.3699e-02,  5.7920e-01, -3.9325e-01, -6.1199e-01,\n",
            "         4.7356e-01,  5.6821e-01,  2.6831e-01,  3.4418e-01,  2.0269e-01,\n",
            "        -4.0552e-01, -7.8208e-01,  9.2882e-01,  3.6691e-01,  3.6398e-01,\n",
            "        -1.9252e-01,  3.6119e-02,  5.8871e-01,  2.7385e-01, -5.3336e-01,\n",
            "         3.2670e-01, -8.9181e-03,  1.8262e-01, -1.3761e-01,  2.9326e-01,\n",
            "        -1.1126e-01, -6.2738e-01,  3.7528e-01, -1.0086e+00,  2.1604e-01,\n",
            "        -2.6890e-01,  3.9319e-02,  1.8877e-01, -5.7796e-01,  6.3496e-01,\n",
            "        -6.7352e-01, -1.0657e-01, -8.6803e-01,  4.4400e-01, -2.8423e-01,\n",
            "         4.0657e-01, -1.8412e-01,  2.9287e-01, -1.0203e-01,  4.8524e-01,\n",
            "        -5.1553e-01, -7.7628e-01,  7.6061e-02, -5.0560e-02, -8.4906e-02,\n",
            "        -3.0049e-01,  6.4698e-01, -1.0398e-03, -7.3378e-01,  1.6427e-01,\n",
            "        -9.2420e-01,  1.1133e+00,  1.0054e+00,  4.9941e-01,  3.6559e-01,\n",
            "        -1.4300e-01,  2.4064e-01, -1.8406e-01,  6.7362e-01,  2.1496e-01,\n",
            "        -4.8246e-01, -6.4473e-01, -4.1057e-01,  2.4963e-01,  1.0008e+00,\n",
            "         3.1071e-01,  6.9761e-03, -1.8947e-01,  3.8577e-02,  1.2010e+00,\n",
            "         3.1596e-01, -8.2906e-01,  7.6095e-01, -1.8821e-01,  3.8332e-01,\n",
            "         2.2816e-01, -1.2547e-01,  4.5710e-01, -5.0612e-01, -1.9639e-01,\n",
            "         4.1936e-01, -4.8284e-01,  4.1599e-01, -4.5474e-01, -3.4927e-01,\n",
            "         2.4749e-01,  7.2144e-01, -5.8564e-01,  1.7312e-02,  7.5937e-01,\n",
            "        -3.8762e-01,  1.8800e-01, -5.7060e-01,  4.6243e-01,  1.5491e-01,\n",
            "        -9.0594e-01,  6.8809e-02, -9.0125e-01, -8.5588e-01, -1.9097e-01,\n",
            "        -4.0579e-02,  6.9614e-01,  7.3759e-01, -1.4159e-01, -1.3757e-01,\n",
            "         1.8771e-03, -4.1125e-01, -6.9749e-01, -4.4343e-01, -7.3053e-01,\n",
            "         4.4100e-01,  4.5358e-01, -1.3392e-01, -7.1990e-02, -9.0216e-02,\n",
            "         1.5160e-01, -6.4769e-01, -2.0069e-02, -1.4398e-01,  4.2501e-01,\n",
            "        -3.8325e-01,  3.3081e-01,  9.9184e-02,  7.1332e-01,  2.0656e-01,\n",
            "        -2.5301e-01, -8.1725e-01, -1.9797e-02, -3.4488e-01,  3.6337e-01,\n",
            "         1.9663e-01,  3.2954e-01, -2.4032e-01,  3.5215e-01, -1.4338e-01,\n",
            "        -3.7643e-01,  1.7148e-01,  1.5632e-01, -1.5644e-01,  9.9640e-01,\n",
            "         1.5622e-01,  2.7919e-01, -5.1500e-01,  2.1574e-01,  2.7465e-01,\n",
            "         4.7980e-01])\n"
          ],
          "name": "stdout"
        },
        {
          "output_type": "stream",
          "text": [
            "\n"
          ],
          "name": "stderr"
        }
      ]
    },
    {
      "cell_type": "code",
      "metadata": {
        "id": "tVy9b7Jvjpby",
        "colab": {
          "base_uri": "https://localhost:8080/"
        },
        "outputId": "dfb13cc7-84d7-43d6-e19a-b7d131bc381b"
      },
      "source": [
        "cd /content/drive/MyDrive/ENDProgram/Session14_5"
      ],
      "execution_count": null,
      "outputs": [
        {
          "output_type": "stream",
          "text": [
            "/content/drive/MyDrive/ENDProgram/Session14_5\n"
          ],
          "name": "stdout"
        }
      ]
    },
    {
      "cell_type": "code",
      "metadata": {
        "id": "aobMNpDVjvBL",
        "colab": {
          "base_uri": "https://localhost:8080/"
        },
        "outputId": "8561b3d7-6ef7-4dac-ede3-0b256bfc24ba"
      },
      "source": [
        "!python -m spacy download en"
      ],
      "execution_count": null,
      "outputs": [
        {
          "output_type": "stream",
          "text": [
            "Requirement already satisfied: en_core_web_sm==2.2.5 from https://github.com/explosion/spacy-models/releases/download/en_core_web_sm-2.2.5/en_core_web_sm-2.2.5.tar.gz#egg=en_core_web_sm==2.2.5 in /usr/local/lib/python3.7/dist-packages (2.2.5)\n",
            "Requirement already satisfied: spacy>=2.2.2 in /usr/local/lib/python3.7/dist-packages (from en_core_web_sm==2.2.5) (2.2.4)\n",
            "Requirement already satisfied: preshed<3.1.0,>=3.0.2 in /usr/local/lib/python3.7/dist-packages (from spacy>=2.2.2->en_core_web_sm==2.2.5) (3.0.5)\n",
            "Requirement already satisfied: srsly<1.1.0,>=1.0.2 in /usr/local/lib/python3.7/dist-packages (from spacy>=2.2.2->en_core_web_sm==2.2.5) (1.0.5)\n",
            "Requirement already satisfied: thinc==7.4.0 in /usr/local/lib/python3.7/dist-packages (from spacy>=2.2.2->en_core_web_sm==2.2.5) (7.4.0)\n",
            "Requirement already satisfied: plac<1.2.0,>=0.9.6 in /usr/local/lib/python3.7/dist-packages (from spacy>=2.2.2->en_core_web_sm==2.2.5) (1.1.3)\n",
            "Requirement already satisfied: requests<3.0.0,>=2.13.0 in /usr/local/lib/python3.7/dist-packages (from spacy>=2.2.2->en_core_web_sm==2.2.5) (2.23.0)\n",
            "Requirement already satisfied: blis<0.5.0,>=0.4.0 in /usr/local/lib/python3.7/dist-packages (from spacy>=2.2.2->en_core_web_sm==2.2.5) (0.4.1)\n",
            "Requirement already satisfied: murmurhash<1.1.0,>=0.28.0 in /usr/local/lib/python3.7/dist-packages (from spacy>=2.2.2->en_core_web_sm==2.2.5) (1.0.5)\n",
            "Requirement already satisfied: wasabi<1.1.0,>=0.4.0 in /usr/local/lib/python3.7/dist-packages (from spacy>=2.2.2->en_core_web_sm==2.2.5) (0.8.2)\n",
            "Requirement already satisfied: catalogue<1.1.0,>=0.0.7 in /usr/local/lib/python3.7/dist-packages (from spacy>=2.2.2->en_core_web_sm==2.2.5) (1.0.0)\n",
            "Requirement already satisfied: setuptools in /usr/local/lib/python3.7/dist-packages (from spacy>=2.2.2->en_core_web_sm==2.2.5) (54.0.0)\n",
            "Requirement already satisfied: numpy>=1.15.0 in /usr/local/lib/python3.7/dist-packages (from spacy>=2.2.2->en_core_web_sm==2.2.5) (1.19.5)\n",
            "Requirement already satisfied: cymem<2.1.0,>=2.0.2 in /usr/local/lib/python3.7/dist-packages (from spacy>=2.2.2->en_core_web_sm==2.2.5) (2.0.5)\n",
            "Requirement already satisfied: tqdm<5.0.0,>=4.38.0 in /usr/local/lib/python3.7/dist-packages (from spacy>=2.2.2->en_core_web_sm==2.2.5) (4.41.1)\n",
            "Requirement already satisfied: urllib3!=1.25.0,!=1.25.1,<1.26,>=1.21.1 in /usr/local/lib/python3.7/dist-packages (from requests<3.0.0,>=2.13.0->spacy>=2.2.2->en_core_web_sm==2.2.5) (1.24.3)\n",
            "Requirement already satisfied: chardet<4,>=3.0.2 in /usr/local/lib/python3.7/dist-packages (from requests<3.0.0,>=2.13.0->spacy>=2.2.2->en_core_web_sm==2.2.5) (3.0.4)\n",
            "Requirement already satisfied: idna<3,>=2.5 in /usr/local/lib/python3.7/dist-packages (from requests<3.0.0,>=2.13.0->spacy>=2.2.2->en_core_web_sm==2.2.5) (2.10)\n",
            "Requirement already satisfied: certifi>=2017.4.17 in /usr/local/lib/python3.7/dist-packages (from requests<3.0.0,>=2.13.0->spacy>=2.2.2->en_core_web_sm==2.2.5) (2020.12.5)\n",
            "Requirement already satisfied: importlib-metadata>=0.20; python_version < \"3.8\" in /usr/local/lib/python3.7/dist-packages (from catalogue<1.1.0,>=0.0.7->spacy>=2.2.2->en_core_web_sm==2.2.5) (3.7.2)\n",
            "Requirement already satisfied: typing-extensions>=3.6.4; python_version < \"3.8\" in /usr/local/lib/python3.7/dist-packages (from importlib-metadata>=0.20; python_version < \"3.8\"->catalogue<1.1.0,>=0.0.7->spacy>=2.2.2->en_core_web_sm==2.2.5) (3.7.4.3)\n",
            "Requirement already satisfied: zipp>=0.5 in /usr/local/lib/python3.7/dist-packages (from importlib-metadata>=0.20; python_version < \"3.8\"->catalogue<1.1.0,>=0.0.7->spacy>=2.2.2->en_core_web_sm==2.2.5) (3.4.1)\n",
            "\u001b[38;5;2m✔ Download and installation successful\u001b[0m\n",
            "You can now load the model via spacy.load('en_core_web_sm')\n",
            "\u001b[38;5;2m✔ Linking successful\u001b[0m\n",
            "/usr/local/lib/python3.7/dist-packages/en_core_web_sm -->\n",
            "/usr/local/lib/python3.7/dist-packages/spacy/data/en\n",
            "You can now load the model via spacy.load('en')\n"
          ],
          "name": "stdout"
        }
      ]
    },
    {
      "cell_type": "code",
      "metadata": {
        "id": "kTfBquOxj59T"
      },
      "source": [
        "from __future__ import absolute_import\n",
        "from __future__ import division\n",
        "from __future__ import print_function\n",
        "from __future__ import unicode_literals\n",
        "\n",
        "import csv\n",
        "import random\n",
        "import re\n",
        "import os\n",
        "import math\n",
        "import time\n",
        "import unicodedata\n",
        "import codecs\n",
        "from io import open\n",
        "import itertools\n",
        "\n",
        "\n",
        "import torch\n",
        "import torch.nn as nn\n",
        "import torch.optim as optim\n",
        "from torch.jit import script, trace\n",
        "\n",
        "import matplotlib.pyplot as plt\n",
        "import matplotlib.ticker as ticker\n",
        "\n",
        "import spacy\n",
        "import numpy as np\n",
        "import pandas as pd"
      ],
      "execution_count": null,
      "outputs": []
    },
    {
      "cell_type": "code",
      "metadata": {
        "id": "cgTxHeAvl3Er"
      },
      "source": [
        "import torch\n",
        "import torch.nn as nn\n",
        "import torch.optim as optim\n",
        "\n",
        "import torchtext\n",
        "from torchtext.legacy.datasets import Multi30k\n",
        "from torchtext.legacy.data import Field, BucketIterator,TabularDataset\n",
        "\n",
        "import matplotlib.pyplot as plt\n",
        "import matplotlib.ticker as ticker\n",
        "\n",
        "import spacy\n",
        "import numpy as np\n",
        "\n",
        "import random\n",
        "import math\n",
        "import time"
      ],
      "execution_count": null,
      "outputs": []
    },
    {
      "cell_type": "code",
      "metadata": {
        "colab": {
          "base_uri": "https://localhost:8080/"
        },
        "id": "dGvK-gWUSoS5",
        "outputId": "34a19cd3-4772-4d20-8451-5cad795f9107"
      },
      "source": [
        "device = torch.device('cuda' if torch.cuda.is_available() else 'cpu')\n",
        "device"
      ],
      "execution_count": null,
      "outputs": [
        {
          "output_type": "execute_result",
          "data": {
            "text/plain": [
              "device(type='cuda')"
            ]
          },
          "metadata": {
            "tags": []
          },
          "execution_count": 20
        }
      ]
    },
    {
      "cell_type": "code",
      "metadata": {
        "id": "KwMMe5CQCU5g"
      },
      "source": [
        "SEED = 1234\n",
        "\n",
        "random.seed(SEED)\n",
        "np.random.seed(SEED)\n",
        "torch.manual_seed(SEED)\n",
        "torch.cuda.manual_seed(SEED)\n",
        "torch.backends.cudnn.deterministic = True"
      ],
      "execution_count": null,
      "outputs": []
    },
    {
      "cell_type": "code",
      "metadata": {
        "id": "xpNTE2GhCY2V",
        "colab": {
          "base_uri": "https://localhost:8080/"
        },
        "outputId": "49034c13-432c-4b00-9f67-99506685596b"
      },
      "source": [
        "!python -m spacy download en\n",
        "#python -m spacy download de"
      ],
      "execution_count": null,
      "outputs": [
        {
          "output_type": "stream",
          "text": [
            "Requirement already satisfied: en_core_web_sm==2.2.5 from https://github.com/explosion/spacy-models/releases/download/en_core_web_sm-2.2.5/en_core_web_sm-2.2.5.tar.gz#egg=en_core_web_sm==2.2.5 in /usr/local/lib/python3.7/dist-packages (2.2.5)\n",
            "Requirement already satisfied: spacy>=2.2.2 in /usr/local/lib/python3.7/dist-packages (from en_core_web_sm==2.2.5) (2.2.4)\n",
            "Requirement already satisfied: blis<0.5.0,>=0.4.0 in /usr/local/lib/python3.7/dist-packages (from spacy>=2.2.2->en_core_web_sm==2.2.5) (0.4.1)\n",
            "Requirement already satisfied: wasabi<1.1.0,>=0.4.0 in /usr/local/lib/python3.7/dist-packages (from spacy>=2.2.2->en_core_web_sm==2.2.5) (0.8.2)\n",
            "Requirement already satisfied: requests<3.0.0,>=2.13.0 in /usr/local/lib/python3.7/dist-packages (from spacy>=2.2.2->en_core_web_sm==2.2.5) (2.23.0)\n",
            "Requirement already satisfied: setuptools in /usr/local/lib/python3.7/dist-packages (from spacy>=2.2.2->en_core_web_sm==2.2.5) (54.0.0)\n",
            "Requirement already satisfied: srsly<1.1.0,>=1.0.2 in /usr/local/lib/python3.7/dist-packages (from spacy>=2.2.2->en_core_web_sm==2.2.5) (1.0.5)\n",
            "Requirement already satisfied: cymem<2.1.0,>=2.0.2 in /usr/local/lib/python3.7/dist-packages (from spacy>=2.2.2->en_core_web_sm==2.2.5) (2.0.5)\n",
            "Requirement already satisfied: preshed<3.1.0,>=3.0.2 in /usr/local/lib/python3.7/dist-packages (from spacy>=2.2.2->en_core_web_sm==2.2.5) (3.0.5)\n",
            "Requirement already satisfied: numpy>=1.15.0 in /usr/local/lib/python3.7/dist-packages (from spacy>=2.2.2->en_core_web_sm==2.2.5) (1.19.5)\n",
            "Requirement already satisfied: tqdm<5.0.0,>=4.38.0 in /usr/local/lib/python3.7/dist-packages (from spacy>=2.2.2->en_core_web_sm==2.2.5) (4.41.1)\n",
            "Requirement already satisfied: catalogue<1.1.0,>=0.0.7 in /usr/local/lib/python3.7/dist-packages (from spacy>=2.2.2->en_core_web_sm==2.2.5) (1.0.0)\n",
            "Requirement already satisfied: murmurhash<1.1.0,>=0.28.0 in /usr/local/lib/python3.7/dist-packages (from spacy>=2.2.2->en_core_web_sm==2.2.5) (1.0.5)\n",
            "Requirement already satisfied: plac<1.2.0,>=0.9.6 in /usr/local/lib/python3.7/dist-packages (from spacy>=2.2.2->en_core_web_sm==2.2.5) (1.1.3)\n",
            "Requirement already satisfied: thinc==7.4.0 in /usr/local/lib/python3.7/dist-packages (from spacy>=2.2.2->en_core_web_sm==2.2.5) (7.4.0)\n",
            "Requirement already satisfied: urllib3!=1.25.0,!=1.25.1,<1.26,>=1.21.1 in /usr/local/lib/python3.7/dist-packages (from requests<3.0.0,>=2.13.0->spacy>=2.2.2->en_core_web_sm==2.2.5) (1.24.3)\n",
            "Requirement already satisfied: certifi>=2017.4.17 in /usr/local/lib/python3.7/dist-packages (from requests<3.0.0,>=2.13.0->spacy>=2.2.2->en_core_web_sm==2.2.5) (2020.12.5)\n",
            "Requirement already satisfied: idna<3,>=2.5 in /usr/local/lib/python3.7/dist-packages (from requests<3.0.0,>=2.13.0->spacy>=2.2.2->en_core_web_sm==2.2.5) (2.10)\n",
            "Requirement already satisfied: chardet<4,>=3.0.2 in /usr/local/lib/python3.7/dist-packages (from requests<3.0.0,>=2.13.0->spacy>=2.2.2->en_core_web_sm==2.2.5) (3.0.4)\n",
            "Requirement already satisfied: importlib-metadata>=0.20; python_version < \"3.8\" in /usr/local/lib/python3.7/dist-packages (from catalogue<1.1.0,>=0.0.7->spacy>=2.2.2->en_core_web_sm==2.2.5) (3.7.2)\n",
            "Requirement already satisfied: zipp>=0.5 in /usr/local/lib/python3.7/dist-packages (from importlib-metadata>=0.20; python_version < \"3.8\"->catalogue<1.1.0,>=0.0.7->spacy>=2.2.2->en_core_web_sm==2.2.5) (3.4.1)\n",
            "Requirement already satisfied: typing-extensions>=3.6.4; python_version < \"3.8\" in /usr/local/lib/python3.7/dist-packages (from importlib-metadata>=0.20; python_version < \"3.8\"->catalogue<1.1.0,>=0.0.7->spacy>=2.2.2->en_core_web_sm==2.2.5) (3.7.4.3)\n",
            "\u001b[38;5;2m✔ Download and installation successful\u001b[0m\n",
            "You can now load the model via spacy.load('en_core_web_sm')\n",
            "\u001b[38;5;2m✔ Linking successful\u001b[0m\n",
            "/usr/local/lib/python3.7/dist-packages/en_core_web_sm -->\n",
            "/usr/local/lib/python3.7/dist-packages/spacy/data/en\n",
            "You can now load the model via spacy.load('en')\n"
          ],
          "name": "stdout"
        }
      ]
    },
    {
      "cell_type": "code",
      "metadata": {
        "id": "j37U6a5OCi_M"
      },
      "source": [
        "spacy_py = spacy.load('en')\n",
        "spacy_en = spacy.load('en')"
      ],
      "execution_count": null,
      "outputs": []
    },
    {
      "cell_type": "code",
      "metadata": {
        "id": "15wydnnsCpH0"
      },
      "source": [
        "def tokenize_py(text):\n",
        "    \"\"\"\n",
        "    Tokenizes German text from a string into a list of strings\n",
        "    \"\"\"\n",
        "    return [tok.text for tok in spacy_py.tokenizer(text)]\n",
        "\n",
        "def tokenize_en(text):\n",
        "    \"\"\"\n",
        "    Tokenizes English text from a string into a list of strings\n",
        "    \"\"\"\n",
        "    return [tok.text for tok in spacy_en.tokenizer(text)]"
      ],
      "execution_count": null,
      "outputs": []
    },
    {
      "cell_type": "code",
      "metadata": {
        "colab": {
          "base_uri": "https://localhost:8080/"
        },
        "id": "QTLG_g8YgHO9",
        "outputId": "3671965b-00ca-4a03-f312-5fff66f38817"
      },
      "source": [
        "tokenize_en(\"hi k\")"
      ],
      "execution_count": null,
      "outputs": [
        {
          "output_type": "execute_result",
          "data": {
            "text/plain": [
              "['hi', 'k']"
            ]
          },
          "metadata": {
            "tags": []
          },
          "execution_count": 25
        }
      ]
    },
    {
      "cell_type": "code",
      "metadata": {
        "id": "60O0YZ8eCrLd"
      },
      "source": [
        "SRC = Field(tokenize = tokenize_en, \n",
        "            init_token = '<sos>', \n",
        "            eos_token = '<eos>', \n",
        "            lower = True, \n",
        "            batch_first = True)\n",
        "\n",
        "TRG = Field(tokenize = tokenize_py, \n",
        "            init_token = '<sos>', \n",
        "            eos_token = '<eos>', \n",
        "            lower = False, \n",
        "            batch_first = True)\n",
        "\n",
        "\n",
        "fields = {'src' : ('src', SRC),\n",
        "          'trg' : ('trg', TRG)}"
      ],
      "execution_count": null,
      "outputs": []
    },
    {
      "cell_type": "code",
      "metadata": {
        "id": "5TzuyiGaCstq"
      },
      "source": [
        "#train_data, valid_data, test_data = Multi30k.splits(exts = ('.de', '.en'), \n",
        "                                                   # fields = (SRC, TRG))\n",
        "\n",
        "qa_data  = TabularDataset(\n",
        "                            path = '/content/drive/MyDrive/ENDProgram/Session14_5/Dataset/English_Python_250_S14_5.csv',\n",
        "                            format = 'csv',\n",
        "                            fields = fields\n",
        "                            )\n",
        "\n",
        "train_data, valid_data, test_data = qa_data.split([0.7,.2,.1])"
      ],
      "execution_count": null,
      "outputs": []
    },
    {
      "cell_type": "code",
      "metadata": {
        "id": "fETHzIIyCu7p",
        "colab": {
          "base_uri": "https://localhost:8080/"
        },
        "outputId": "d08af65a-c8d7-48e2-a28c-a26d9df59259"
      },
      "source": [
        "SRC.build_vocab(train_data, min_freq = 2)\n",
        "#TRG.build_vocab(train_data, min_freq = 2)\n",
        "print(custom_embeddings['dim'])\n",
        "TRG.build_vocab(train_data, vectors = custom_embeddings)"
      ],
      "execution_count": null,
      "outputs": [
        {
          "output_type": "stream",
          "text": [
            "tensor([ 0.8583,  0.3291,  0.8636,  0.6481, -0.7975, -0.6721, -1.1168,  0.1364,\n",
            "        -0.6301, -0.1390,  1.0145, -0.0696,  0.4586, -0.5876, -0.6800,  0.0317,\n",
            "        -0.8592,  0.0308, -0.7147, -0.6778, -0.5909,  0.8402,  0.6200,  0.7525,\n",
            "         0.2096,  0.6428,  0.6159, -0.4523,  0.9921, -0.1505, -0.4622,  0.2127,\n",
            "        -0.2055,  0.2686, -0.1534,  0.6160,  0.0904,  0.4415, -0.5964, -1.4470,\n",
            "        -0.1854,  0.6219, -0.5278,  0.0916, -1.0486, -0.0467, -0.2801,  0.3204,\n",
            "        -0.2250, -0.4077, -0.9909,  0.4343, -0.0721,  0.4291,  0.8373,  0.4230,\n",
            "         1.1621,  0.2433,  1.0195,  0.3939,  1.1795,  1.0777,  0.7332,  0.8276,\n",
            "        -0.0496, -0.1403, -0.8432,  0.5885, -0.3087,  0.4705, -1.3958,  1.2726,\n",
            "        -0.7114,  0.5687, -0.1304,  0.4115, -0.3332, -0.2195,  0.9003, -1.1020,\n",
            "        -0.6620, -0.8094, -0.3119,  0.5979, -0.2666,  0.0942, -0.7684,  1.3812,\n",
            "        -0.1258, -0.3276, -0.0669,  0.0961, -1.2365,  1.1562, -0.0310, -1.7064,\n",
            "         0.2776, -0.3660, -0.3275, -0.5843, -0.2396,  1.2496,  0.6964, -0.1401,\n",
            "        -0.5668, -0.8563,  0.1380, -0.4339, -0.2109, -0.6042, -0.6471,  1.4115,\n",
            "        -0.8452,  0.3192,  0.5194, -0.1813, -0.4282, -0.0892,  0.2199, -0.7754,\n",
            "         0.0975, -0.4127,  0.7379,  1.0360,  0.6085, -0.5905,  1.0774,  1.7401,\n",
            "        -0.1302,  0.8098,  0.4565, -0.8784, -0.6966, -0.1109, -1.3585, -0.9522,\n",
            "        -0.0258,  1.5005,  0.0335,  0.9070, -0.4580,  1.3316, -0.0181,  0.9547,\n",
            "        -0.9295, -0.4602,  0.0866, -0.4042,  0.0527, -0.2839,  0.5881,  0.1987,\n",
            "        -0.0543,  0.2278,  0.3713,  0.6441,  0.7589,  0.4484, -0.5842, -0.2984,\n",
            "        -1.2263, -0.3296, -1.4116, -0.1642, -0.5314, -0.1278, -1.4066, -0.5048,\n",
            "        -0.4853, -0.0889, -0.1842, -0.9929,  0.2341, -0.8063, -0.8731, -0.2334,\n",
            "        -0.8077, -0.6399, -0.3195,  0.2588,  0.3655, -1.0239,  1.0670,  0.0504,\n",
            "         0.2333,  0.0597,  0.9353,  0.8203,  0.0851,  1.0367,  0.6984, -0.6716,\n",
            "        -0.8646,  0.8020,  0.5726,  0.2343, -0.4104, -0.8379,  0.3928,  0.3468,\n",
            "         0.0714, -0.9603,  0.3670, -0.7536,  1.1107, -0.0938, -0.7186, -0.6695,\n",
            "        -1.0288, -0.3270,  0.2513, -0.8237,  0.7031,  0.3110, -0.7198,  1.1467,\n",
            "        -0.4240,  0.6716, -0.7300, -0.8004, -0.1695,  0.3363,  0.9922, -0.6455,\n",
            "        -1.5714,  1.0159,  0.8997, -0.9007, -0.8874,  0.6052,  0.6915,  0.6577,\n",
            "         0.4058, -0.9110,  0.0535,  0.1007,  0.5360, -0.5820,  1.4639, -0.0863,\n",
            "         0.0455, -0.4245, -0.2377, -0.1992,  0.0886,  0.5538, -0.1932, -1.1238,\n",
            "        -0.2644,  1.1749, -1.0630, -0.8087, -0.8868, -0.2095, -0.7515,  1.0554])\n"
          ],
          "name": "stdout"
        }
      ]
    },
    {
      "cell_type": "code",
      "metadata": {
        "id": "2XONz6UrCwuh",
        "colab": {
          "base_uri": "https://localhost:8080/"
        },
        "outputId": "2d9a8312-03be-497f-9d59-e9fb60bd3a1b"
      },
      "source": [
        "device = torch.device('cuda' if torch.cuda.is_available() else 'cpu')\n",
        "device"
      ],
      "execution_count": null,
      "outputs": [
        {
          "output_type": "execute_result",
          "data": {
            "text/plain": [
              "device(type='cuda')"
            ]
          },
          "metadata": {
            "tags": []
          },
          "execution_count": 29
        }
      ]
    },
    {
      "cell_type": "code",
      "metadata": {
        "id": "aBtCv6sACyZ8"
      },
      "source": [
        "BATCH_SIZE = 64\n",
        "\n",
        "\n",
        "train_iterator, valid_iterator, test_iterator = BucketIterator.splits(\n",
        "    (train_data, valid_data, test_data), \n",
        "     batch_size = BATCH_SIZE,\n",
        "     device = device,\n",
        "     sort_within_batch = True,\n",
        "     sort_key = lambda x: len(x.src))"
      ],
      "execution_count": null,
      "outputs": []
    },
    {
      "cell_type": "markdown",
      "metadata": {
        "id": "HgvD_MpkC2OS"
      },
      "source": [
        "![](https://raw.githubusercontent.com/bentrevett/pytorch-seq2seq/9479fcb532214ad26fd4bda9fcf081a05e1aaf4e/assets/transformer-encoder.png)"
      ]
    },
    {
      "cell_type": "code",
      "metadata": {
        "id": "NE6JimgOCz-w"
      },
      "source": [
        "class Encoder(nn.Module):\n",
        "    def __init__(self, \n",
        "                 input_dim, \n",
        "                 hid_dim, \n",
        "                 n_layers, \n",
        "                 n_heads, \n",
        "                 pf_dim,\n",
        "                 dropout, \n",
        "                 device,\n",
        "                 max_length = 250):\n",
        "        super().__init__()\n",
        "\n",
        "        self.device = device\n",
        "        \n",
        "        self.tok_embedding = nn.Embedding(input_dim, hid_dim)\n",
        "        self.pos_embedding = nn.Embedding(max_length, hid_dim)\n",
        "        \n",
        "        self.layers = nn.ModuleList([EncoderLayer(hid_dim, \n",
        "                                                  n_heads, \n",
        "                                                  pf_dim,\n",
        "                                                  dropout, \n",
        "                                                  device) \n",
        "                                     for _ in range(n_layers)])\n",
        "        \n",
        "        self.dropout = nn.Dropout(dropout)\n",
        "        \n",
        "        self.scale = torch.sqrt(torch.FloatTensor([hid_dim])).to(device)\n",
        "        \n",
        "    def forward(self, src, src_mask):\n",
        "        \n",
        "        #src = [batch size, src len]\n",
        "        #src_mask = [batch size, 1, 1, src len]\n",
        "        \n",
        "        batch_size = src.shape[0]\n",
        "        src_len = src.shape[1]\n",
        "        \n",
        "        pos = torch.arange(0, src_len).unsqueeze(0).repeat(batch_size, 1).to(self.device)\n",
        "        \n",
        "        #pos = [batch size, src len]\n",
        "        \n",
        "        src = self.dropout((self.tok_embedding(src) * self.scale) + self.pos_embedding(pos))\n",
        "        \n",
        "        #src = [batch size, src len, hid dim]\n",
        "        \n",
        "        for layer in self.layers:\n",
        "            src = layer(src, src_mask)\n",
        "            \n",
        "        #src = [batch size, src len, hid dim]\n",
        "            \n",
        "        return src"
      ],
      "execution_count": null,
      "outputs": []
    },
    {
      "cell_type": "code",
      "metadata": {
        "id": "2LheiXWVFDEg"
      },
      "source": [
        "class EncoderLayer(nn.Module):\n",
        "    def __init__(self, \n",
        "                 hid_dim, \n",
        "                 n_heads, \n",
        "                 pf_dim,  \n",
        "                 dropout, \n",
        "                 device):\n",
        "        super().__init__()\n",
        "        \n",
        "        self.self_attn_layer_norm = nn.LayerNorm(hid_dim)\n",
        "        self.ff_layer_norm = nn.LayerNorm(hid_dim)\n",
        "        self.self_attention = MultiHeadAttentionLayer(hid_dim, n_heads, dropout, device)\n",
        "        self.positionwise_feedforward = PositionwiseFeedforwardLayer(hid_dim, \n",
        "                                                                     pf_dim, \n",
        "                                                                     dropout)\n",
        "        self.dropout = nn.Dropout(dropout)\n",
        "        \n",
        "    def forward(self, src, src_mask):\n",
        "        \n",
        "        #src = [batch size, src len, hid dim]\n",
        "        #src_mask = [batch size, 1, 1, src len] \n",
        "                \n",
        "        #self attention\n",
        "        _src, _ = self.self_attention(src, src, src, src_mask)\n",
        "        \n",
        "        #dropout, residual connection and layer norm\n",
        "        src = self.self_attn_layer_norm(src + self.dropout(_src))\n",
        "        \n",
        "        #src = [batch size, src len, hid dim]\n",
        "        \n",
        "        #positionwise feedforward\n",
        "        _src = self.positionwise_feedforward(src)\n",
        "        \n",
        "        #dropout, residual and layer norm\n",
        "        src = self.ff_layer_norm(src + self.dropout(_src))\n",
        "        \n",
        "        #src = [batch size, src len, hid dim]\n",
        "        \n",
        "        return src"
      ],
      "execution_count": null,
      "outputs": []
    },
    {
      "cell_type": "markdown",
      "metadata": {
        "id": "6h_Iqnk4Jg5k"
      },
      "source": [
        "![](https://raw.githubusercontent.com/bentrevett/pytorch-seq2seq/9479fcb532214ad26fd4bda9fcf081a05e1aaf4e/assets/transformer-attention.png)"
      ]
    },
    {
      "cell_type": "code",
      "metadata": {
        "id": "ZZmeHfGhGzkN"
      },
      "source": [
        "class MultiHeadAttentionLayer(nn.Module):\n",
        "    def __init__(self, hid_dim, n_heads, dropout, device):\n",
        "        super().__init__()\n",
        "        \n",
        "        assert hid_dim % n_heads == 0\n",
        "        \n",
        "        self.hid_dim = hid_dim\n",
        "        self.n_heads = n_heads\n",
        "        self.head_dim = hid_dim // n_heads\n",
        "        \n",
        "        self.fc_q = nn.Linear(hid_dim, hid_dim)\n",
        "        self.fc_k = nn.Linear(hid_dim, hid_dim)\n",
        "        self.fc_v = nn.Linear(hid_dim, hid_dim)\n",
        "        \n",
        "        self.fc_o = nn.Linear(hid_dim, hid_dim)\n",
        "        \n",
        "        self.dropout = nn.Dropout(dropout)\n",
        "        \n",
        "        self.scale = torch.sqrt(torch.FloatTensor([self.head_dim])).to(device)\n",
        "        \n",
        "    def forward(self, query, key, value, mask = None):\n",
        "        \n",
        "        batch_size = query.shape[0]\n",
        "        \n",
        "        #query = [batch size, query len, hid dim]\n",
        "        #key = [batch size, key len, hid dim]\n",
        "        #value = [batch size, value len, hid dim]\n",
        "                \n",
        "        Q = self.fc_q(query)\n",
        "        K = self.fc_k(key)\n",
        "        V = self.fc_v(value)\n",
        "        \n",
        "        #Q = [batch size, query len, hid dim]\n",
        "        #K = [batch size, key len, hid dim]\n",
        "        #V = [batch size, value len, hid dim]\n",
        "                \n",
        "        Q = Q.view(batch_size, -1, self.n_heads, self.head_dim).permute(0, 2, 1, 3)\n",
        "        K = K.view(batch_size, -1, self.n_heads, self.head_dim).permute(0, 2, 1, 3)\n",
        "        V = V.view(batch_size, -1, self.n_heads, self.head_dim).permute(0, 2, 1, 3)\n",
        "        \n",
        "        #Q = [batch size, n heads, query len, head dim]\n",
        "        #K = [batch size, n heads, key len, head dim]\n",
        "        #V = [batch size, n heads, value len, head dim]\n",
        "                \n",
        "        energy = torch.matmul(Q, K.permute(0, 1, 3, 2)) / self.scale\n",
        "        \n",
        "        #energy = [batch size, n heads, query len, key len]\n",
        "        \n",
        "        if mask is not None:\n",
        "            energy = energy.masked_fill(mask == 0, -1e10)\n",
        "        \n",
        "        attention = torch.softmax(energy, dim = -1)\n",
        "                \n",
        "        #attention = [batch size, n heads, query len, key len]\n",
        "                \n",
        "        x = torch.matmul(self.dropout(attention), V)\n",
        "        \n",
        "        #x = [batch size, n heads, query len, head dim]\n",
        "        \n",
        "        x = x.permute(0, 2, 1, 3).contiguous()\n",
        "        \n",
        "        #x = [batch size, query len, n heads, head dim]\n",
        "        \n",
        "        x = x.view(batch_size, -1, self.hid_dim)\n",
        "        \n",
        "        #x = [batch size, query len, hid dim]\n",
        "        \n",
        "        x = self.fc_o(x)\n",
        "        \n",
        "        #x = [batch size, query len, hid dim]\n",
        "        \n",
        "        return x, attention"
      ],
      "execution_count": null,
      "outputs": []
    },
    {
      "cell_type": "code",
      "metadata": {
        "id": "R9w9xDUKL7LU"
      },
      "source": [
        "class PositionwiseFeedforwardLayer(nn.Module):\n",
        "    def __init__(self, hid_dim, pf_dim, dropout):\n",
        "        super().__init__()\n",
        "        \n",
        "        self.fc_1 = nn.Linear(hid_dim, pf_dim)\n",
        "        self.fc_2 = nn.Linear(pf_dim, hid_dim)\n",
        "        \n",
        "        self.dropout = nn.Dropout(dropout)\n",
        "        \n",
        "    def forward(self, x):\n",
        "        \n",
        "        #x = [batch size, seq len, hid dim]\n",
        "        \n",
        "        x = self.dropout(torch.relu(self.fc_1(x)))\n",
        "        \n",
        "        #x = [batch size, seq len, pf dim]\n",
        "        \n",
        "        x = self.fc_2(x)\n",
        "        \n",
        "        #x = [batch size, seq len, hid dim]\n",
        "        \n",
        "        return x"
      ],
      "execution_count": null,
      "outputs": []
    },
    {
      "cell_type": "markdown",
      "metadata": {
        "id": "YbTr7YPSMRpC"
      },
      "source": [
        "![](https://raw.githubusercontent.com/bentrevett/pytorch-seq2seq/9479fcb532214ad26fd4bda9fcf081a05e1aaf4e/assets/transformer-decoder.png)"
      ]
    },
    {
      "cell_type": "code",
      "metadata": {
        "id": "iWBMMF45MMNS"
      },
      "source": [
        "class Decoder(nn.Module):\n",
        "    def __init__(self, \n",
        "                 output_dim, \n",
        "                 hid_dim, \n",
        "                 n_layers, \n",
        "                 n_heads, \n",
        "                 pf_dim, \n",
        "                 dropout, \n",
        "                 device,\n",
        "                 max_length = 250):\n",
        "        super().__init__()\n",
        "        \n",
        "        self.device = device\n",
        "        \n",
        "        self.tok_embedding = nn.Embedding(output_dim, hid_dim)\n",
        "        print(output_dim)\n",
        "        print(hid_dim)\n",
        "        print(TRG.vocab.vectors.shape)\n",
        "        print(type(TRG.vocab.vectors))\n",
        "        # step added for custom embedding\n",
        "        #self.tok_embedding.weight.data.copy_(TRG.vocab.vectors) TRG.vocab.vectors\n",
        "        self.tok_embedding.weight.data.copy_(TRG.vocab.vectors) \n",
        "        \n",
        "        self.pos_embedding = nn.Embedding(max_length, hid_dim)\n",
        "        \n",
        "        self.layers = nn.ModuleList([DecoderLayer(hid_dim, \n",
        "                                                  n_heads, \n",
        "                                                  pf_dim, \n",
        "                                                  dropout, \n",
        "                                                  device)\n",
        "                                     for _ in range(n_layers)])\n",
        "        \n",
        "        self.fc_out = nn.Linear(hid_dim, output_dim)\n",
        "        \n",
        "        self.dropout = nn.Dropout(dropout)\n",
        "        \n",
        "        self.scale = torch.sqrt(torch.FloatTensor([hid_dim])).to(device)\n",
        "        \n",
        "    def forward(self, trg, enc_src, trg_mask, src_mask):\n",
        "        \n",
        "        #trg = [batch size, trg len]\n",
        "        #enc_src = [batch size, src len, hid dim]\n",
        "        #trg_mask = [batch size, 1, trg len, trg len]\n",
        "        #src_mask = [batch size, 1, 1, src len]\n",
        "             \n",
        "        batch_size = trg.shape[0]\n",
        "        trg_len = trg.shape[1]\n",
        "        \n",
        "        pos = torch.arange(0, trg_len).unsqueeze(0).repeat(batch_size, 1).to(self.device)\n",
        "                            \n",
        "        #pos = [batch size, trg len]\n",
        "            \n",
        "        trg = self.dropout((self.tok_embedding(trg) * self.scale) + self.pos_embedding(pos))\n",
        "                \n",
        "        #trg = [batch size, trg len, hid dim]\n",
        "        \n",
        "        for layer in self.layers:\n",
        "            trg, attention = layer(trg, enc_src, trg_mask, src_mask)\n",
        "        \n",
        "        #trg = [batch size, trg len, hid dim]\n",
        "        #attention = [batch size, n heads, trg len, src len]\n",
        "        \n",
        "        output = self.fc_out(trg)\n",
        "        \n",
        "        #output = [batch size, trg len, output dim]\n",
        "            \n",
        "        return output, attention"
      ],
      "execution_count": null,
      "outputs": []
    },
    {
      "cell_type": "code",
      "metadata": {
        "id": "CMEr1IFUMxco"
      },
      "source": [
        "class DecoderLayer(nn.Module):\n",
        "    def __init__(self, \n",
        "                 hid_dim, \n",
        "                 n_heads, \n",
        "                 pf_dim, \n",
        "                 dropout, \n",
        "                 device):\n",
        "        super().__init__()\n",
        "        \n",
        "        self.self_attn_layer_norm = nn.LayerNorm(hid_dim)\n",
        "        self.enc_attn_layer_norm = nn.LayerNorm(hid_dim)\n",
        "        self.ff_layer_norm = nn.LayerNorm(hid_dim)\n",
        "        self.self_attention = MultiHeadAttentionLayer(hid_dim, n_heads, dropout, device)\n",
        "        self.encoder_attention = MultiHeadAttentionLayer(hid_dim, n_heads, dropout, device)\n",
        "        self.positionwise_feedforward = PositionwiseFeedforwardLayer(hid_dim, \n",
        "                                                                     pf_dim, \n",
        "                                                                     dropout)\n",
        "        self.dropout = nn.Dropout(dropout)\n",
        "        \n",
        "    def forward(self, trg, enc_src, trg_mask, src_mask):\n",
        "        \n",
        "        #trg = [batch size, trg len, hid dim]\n",
        "        #enc_src = [batch size, src len, hid dim]\n",
        "        #trg_mask = [batch size, 1, trg len, trg len]\n",
        "        #src_mask = [batch size, 1, 1, src len]\n",
        "        \n",
        "        #self attention\n",
        "        _trg, _ = self.self_attention(trg, trg, trg, trg_mask)\n",
        "        \n",
        "        #dropout, residual connection and layer norm\n",
        "        trg = self.self_attn_layer_norm(trg + self.dropout(_trg))\n",
        "            \n",
        "        #trg = [batch size, trg len, hid dim]\n",
        "            \n",
        "        #encoder attention\n",
        "        _trg, attention = self.encoder_attention(trg, enc_src, enc_src, src_mask)\n",
        "        # query, key, value\n",
        "        \n",
        "        #dropout, residual connection and layer norm\n",
        "        trg = self.enc_attn_layer_norm(trg + self.dropout(_trg))\n",
        "                    \n",
        "        #trg = [batch size, trg len, hid dim]\n",
        "        \n",
        "        #positionwise feedforward\n",
        "        _trg = self.positionwise_feedforward(trg)\n",
        "        \n",
        "        #dropout, residual and layer norm\n",
        "        trg = self.ff_layer_norm(trg + self.dropout(_trg))\n",
        "        \n",
        "        #trg = [batch size, trg len, hid dim]\n",
        "        #attention = [batch size, n heads, trg len, src len]\n",
        "        \n",
        "        return trg, attention"
      ],
      "execution_count": null,
      "outputs": []
    },
    {
      "cell_type": "markdown",
      "metadata": {
        "id": "udpPhQ2UN8oQ"
      },
      "source": [
        "10000\n",
        "11000\n",
        "11100\n",
        "11100\n",
        "11100"
      ]
    },
    {
      "cell_type": "code",
      "metadata": {
        "id": "Dr3Mg8OGN6ul"
      },
      "source": [
        "class Seq2Seq(nn.Module):\n",
        "    def __init__(self, \n",
        "                 encoder, \n",
        "                 decoder, \n",
        "                 src_pad_idx, \n",
        "                 trg_pad_idx, \n",
        "                 device):\n",
        "        super().__init__()\n",
        "        \n",
        "        self.encoder = encoder\n",
        "        self.decoder = decoder\n",
        "        self.src_pad_idx = src_pad_idx\n",
        "        self.trg_pad_idx = trg_pad_idx\n",
        "        self.device = device\n",
        "        \n",
        "    def make_src_mask(self, src):\n",
        "        \n",
        "        #src = [batch size, src len]\n",
        "        \n",
        "        src_mask = (src != self.src_pad_idx).unsqueeze(1).unsqueeze(2)\n",
        "\n",
        "        #src_mask = [batch size, 1, 1, src len]\n",
        "\n",
        "        return src_mask\n",
        "    \n",
        "    def make_trg_mask(self, trg):\n",
        "        \n",
        "        #trg = [batch size, trg len]\n",
        "        \n",
        "        trg_pad_mask = (trg != self.trg_pad_idx).unsqueeze(1).unsqueeze(2)\n",
        "        \n",
        "        #trg_pad_mask = [batch size, 1, 1, trg len]\n",
        "        \n",
        "        trg_len = trg.shape[1]\n",
        "        \n",
        "        trg_sub_mask = torch.tril(torch.ones((trg_len, trg_len), device = self.device)).bool()\n",
        "        \n",
        "        #trg_sub_mask = [trg len, trg len]\n",
        "            \n",
        "        trg_mask = trg_pad_mask & trg_sub_mask\n",
        "        \n",
        "        #trg_mask = [batch size, 1, trg len, trg len]\n",
        "        \n",
        "        return trg_mask\n",
        "\n",
        "    def forward(self, src, trg):\n",
        "        \n",
        "        #src = [batch size, src len]\n",
        "        #trg = [batch size, trg len]\n",
        "                \n",
        "        src_mask = self.make_src_mask(src)\n",
        "        trg_mask = self.make_trg_mask(trg)\n",
        "        \n",
        "        #src_mask = [batch size, 1, 1, src len]\n",
        "        #trg_mask = [batch size, 1, trg len, trg len]\n",
        "        \n",
        "        enc_src = self.encoder(src, src_mask)\n",
        "        \n",
        "        #enc_src = [batch size, src len, hid dim]\n",
        "                \n",
        "        output, attention = self.decoder(trg, enc_src, trg_mask, src_mask)\n",
        "        \n",
        "        #output = [batch size, trg len, output dim]\n",
        "        #attention = [batch size, n heads, trg len, src len]\n",
        "        \n",
        "        return output, attention"
      ],
      "execution_count": null,
      "outputs": []
    },
    {
      "cell_type": "code",
      "metadata": {
        "id": "4zsZjSSWOSHc",
        "colab": {
          "base_uri": "https://localhost:8080/"
        },
        "outputId": "5a81a25e-bc6f-44e2-9345-dd099bd5060b"
      },
      "source": [
        "INPUT_DIM = len(SRC.vocab)\n",
        "OUTPUT_DIM = len(TRG.vocab)\n",
        "HID_DIM = 256\n",
        "ENC_LAYERS = 6\n",
        "DEC_LAYERS = 6\n",
        "ENC_HEADS = 8\n",
        "DEC_HEADS = 8\n",
        "ENC_PF_DIM = 512\n",
        "DEC_PF_DIM = 512\n",
        "ENC_DROPOUT = 0.1\n",
        "DEC_DROPOUT = 0.1\n",
        "\n",
        "enc = Encoder(INPUT_DIM, \n",
        "              HID_DIM, \n",
        "              ENC_LAYERS, \n",
        "              ENC_HEADS, \n",
        "              ENC_PF_DIM, \n",
        "              ENC_DROPOUT, \n",
        "              device)\n",
        "\n",
        "dec = Decoder(OUTPUT_DIM, \n",
        "              HID_DIM, \n",
        "              DEC_LAYERS, \n",
        "              DEC_HEADS, \n",
        "              DEC_PF_DIM, \n",
        "              DEC_DROPOUT, \n",
        "              device)"
      ],
      "execution_count": null,
      "outputs": [
        {
          "output_type": "stream",
          "text": [
            "2093\n",
            "256\n",
            "torch.Size([2093, 256])\n",
            "<class 'torch.Tensor'>\n"
          ],
          "name": "stdout"
        }
      ]
    },
    {
      "cell_type": "code",
      "metadata": {
        "id": "iYVZYDVcOUGK"
      },
      "source": [
        "SRC_PAD_IDX = SRC.vocab.stoi[SRC.pad_token]\n",
        "TRG_PAD_IDX = TRG.vocab.stoi[TRG.pad_token]\n",
        "\n",
        "model = Seq2Seq(enc, dec, SRC_PAD_IDX, TRG_PAD_IDX, device).to(device)"
      ],
      "execution_count": null,
      "outputs": []
    },
    {
      "cell_type": "code",
      "metadata": {
        "id": "M9sU6IKspekh",
        "colab": {
          "base_uri": "https://localhost:8080/"
        },
        "outputId": "3a440aef-7960-4f73-c033-c86174fb679c"
      },
      "source": [
        "SRC.vocab.stoi[SRC.pad_token]"
      ],
      "execution_count": null,
      "outputs": [
        {
          "output_type": "execute_result",
          "data": {
            "text/plain": [
              "1"
            ]
          },
          "metadata": {
            "tags": []
          },
          "execution_count": 40
        }
      ]
    },
    {
      "cell_type": "code",
      "metadata": {
        "id": "Qd0ePzj0OzLa",
        "colab": {
          "base_uri": "https://localhost:8080/"
        },
        "outputId": "d6a9d4f3-b268-4441-9788-85ad812fa7d7"
      },
      "source": [
        "def count_parameters(model):\n",
        "    return sum(p.numel() for p in model.parameters() if p.requires_grad)\n",
        "\n",
        "print(f'The model has {count_parameters(model):,} trainable parameters')"
      ],
      "execution_count": null,
      "outputs": [
        {
          "output_type": "stream",
          "text": [
            "The model has 9,349,165 trainable parameters\n"
          ],
          "name": "stdout"
        }
      ]
    },
    {
      "cell_type": "code",
      "metadata": {
        "id": "fmZ0hyo8O0vE"
      },
      "source": [
        "def initialize_weights(m):\n",
        "    if hasattr(m, 'weight') and m.weight.dim() > 1:\n",
        "        nn.init.xavier_uniform_(m.weight.data)"
      ],
      "execution_count": null,
      "outputs": []
    },
    {
      "cell_type": "code",
      "metadata": {
        "id": "NRtAM9Y4O2N2"
      },
      "source": [
        "model.apply(initialize_weights);"
      ],
      "execution_count": null,
      "outputs": []
    },
    {
      "cell_type": "code",
      "metadata": {
        "id": "NEpApG3YO3ZE"
      },
      "source": [
        "LEARNING_RATE = 1e-4\n",
        "\n",
        "optimizer = torch.optim.Adam(model.parameters(), lr = LEARNING_RATE)"
      ],
      "execution_count": null,
      "outputs": []
    },
    {
      "cell_type": "code",
      "metadata": {
        "id": "n9Dy_wWrO46l"
      },
      "source": [
        "criterion = nn.CrossEntropyLoss(ignore_index = TRG_PAD_IDX)\n"
      ],
      "execution_count": null,
      "outputs": []
    },
    {
      "cell_type": "code",
      "metadata": {
        "id": "ycBBiEpuO6cG"
      },
      "source": [
        "def train(model, iterator, optimizer, criterion, clip):\n",
        "    \n",
        "    model.train()\n",
        "    \n",
        "    epoch_loss = 0\n",
        "    \n",
        "    for i, batch in enumerate(iterator):\n",
        "        \n",
        "        src = batch.src\n",
        "        trg = batch.trg\n",
        "        \n",
        "        optimizer.zero_grad()\n",
        "        \n",
        "        output, _ = model(src, trg[:,:-1])\n",
        "                \n",
        "        #output = [batch size, trg len - 1, output dim]\n",
        "        #trg = [batch size, trg len]\n",
        "            \n",
        "        output_dim = output.shape[-1]\n",
        "            \n",
        "        output = output.contiguous().view(-1, output_dim)\n",
        "        trg = trg[:,1:].contiguous().view(-1)\n",
        "                \n",
        "        #output = [batch size * trg len - 1, output dim]\n",
        "        #trg = [batch size * trg len - 1]\n",
        "            \n",
        "        loss = criterion(output, trg)\n",
        "        \n",
        "        loss.backward()\n",
        "        \n",
        "        torch.nn.utils.clip_grad_norm_(model.parameters(), clip)\n",
        "        \n",
        "        optimizer.step()\n",
        "        \n",
        "        epoch_loss += loss.item()\n",
        "        \n",
        "    return epoch_loss / len(iterator)"
      ],
      "execution_count": null,
      "outputs": []
    },
    {
      "cell_type": "code",
      "metadata": {
        "id": "zi3Ev8gaO79_"
      },
      "source": [
        "def evaluate(model, iterator, criterion):\n",
        "    \n",
        "    model.eval()\n",
        "    \n",
        "    epoch_loss = 0\n",
        "    \n",
        "    with torch.no_grad():\n",
        "    \n",
        "        for i, batch in enumerate(iterator):\n",
        "\n",
        "            src = batch.src\n",
        "            trg = batch.trg\n",
        "\n",
        "            output, _ = model(src, trg[:,:-1])\n",
        "            \n",
        "            #output = [batch size, trg len - 1, output dim]\n",
        "            #trg = [batch size, trg len]\n",
        "            \n",
        "            output_dim = output.shape[-1]\n",
        "            \n",
        "            output = output.contiguous().view(-1, output_dim)\n",
        "            trg = trg[:,1:].contiguous().view(-1)\n",
        "            \n",
        "            #output = [batch size * trg len - 1, output dim]\n",
        "            #trg = [batch size * trg len - 1]\n",
        "            \n",
        "            loss = criterion(output, trg)\n",
        "\n",
        "            epoch_loss += loss.item()\n",
        "        \n",
        "    return epoch_loss / len(iterator)"
      ],
      "execution_count": null,
      "outputs": []
    },
    {
      "cell_type": "code",
      "metadata": {
        "id": "JuB4JqQRO9Wg"
      },
      "source": [
        "def epoch_time(start_time, end_time):\n",
        "    elapsed_time = end_time - start_time\n",
        "    elapsed_mins = int(elapsed_time / 60)\n",
        "    elapsed_secs = int(elapsed_time - (elapsed_mins * 60))\n",
        "    return elapsed_mins, elapsed_secs"
      ],
      "execution_count": null,
      "outputs": []
    },
    {
      "cell_type": "code",
      "metadata": {
        "colab": {
          "base_uri": "https://localhost:8080/"
        },
        "id": "Ds9UlPurFkIX",
        "outputId": "90ab6bca-609e-4a1e-e940-322adef2151d"
      },
      "source": [
        "cd /content/drive/MyDrive/ENDProgram/Session14_5"
      ],
      "execution_count": null,
      "outputs": [
        {
          "output_type": "stream",
          "text": [
            "/content/drive/MyDrive/ENDProgram/Session14_5\n"
          ],
          "name": "stdout"
        }
      ]
    },
    {
      "cell_type": "code",
      "metadata": {
        "id": "aax76Ie4O_Cr",
        "colab": {
          "base_uri": "https://localhost:8080/"
        },
        "outputId": "b84c3a9e-b431-423f-e266-9ce4634ef5a1"
      },
      "source": [
        "N_EPOCHS = 100\n",
        "CLIP = 1\n",
        "\n",
        "best_valid_loss = float('inf')\n",
        "\n",
        "for epoch in range(N_EPOCHS):\n",
        "    \n",
        "    start_time = time.time()\n",
        "    \n",
        "    train_loss = train(model, train_iterator, optimizer, criterion, CLIP)\n",
        "    valid_loss = evaluate(model, valid_iterator, criterion)\n",
        "    \n",
        "    end_time = time.time()\n",
        "    \n",
        "    epoch_mins, epoch_secs = epoch_time(start_time, end_time)\n",
        "    \n",
        "    if valid_loss < best_valid_loss:\n",
        "        best_valid_loss = valid_loss\n",
        "        torch.save(model.state_dict(), 'tut6-model.pt')\n",
        "    \n",
        "    print(f'Epoch: {epoch+1:02} | Time: {epoch_mins}m {epoch_secs}s')\n",
        "    print(f'\\tTrain Loss: {train_loss:.3f} | Train PPL: {math.exp(train_loss):7.3f}')\n",
        "    print(f'\\t Val. Loss: {valid_loss:.3f} |  Val. PPL: {math.exp(valid_loss):7.3f}')"
      ],
      "execution_count": null,
      "outputs": [
        {
          "output_type": "stream",
          "text": [
            "Epoch: 01 | Time: 0m 3s\n",
            "\tTrain Loss: 6.247 | Train PPL: 516.384\n",
            "\t Val. Loss: 5.480 |  Val. PPL: 239.729\n",
            "Epoch: 02 | Time: 0m 3s\n",
            "\tTrain Loss: 5.212 | Train PPL: 183.395\n",
            "\t Val. Loss: 4.760 |  Val. PPL: 116.790\n",
            "Epoch: 03 | Time: 0m 3s\n",
            "\tTrain Loss: 4.584 | Train PPL:  97.913\n",
            "\t Val. Loss: 4.268 |  Val. PPL:  71.413\n",
            "Epoch: 04 | Time: 0m 3s\n",
            "\tTrain Loss: 4.112 | Train PPL:  61.085\n",
            "\t Val. Loss: 3.731 |  Val. PPL:  41.716\n",
            "Epoch: 05 | Time: 0m 3s\n",
            "\tTrain Loss: 3.692 | Train PPL:  40.122\n",
            "\t Val. Loss: 3.366 |  Val. PPL:  28.949\n",
            "Epoch: 06 | Time: 0m 3s\n",
            "\tTrain Loss: 3.395 | Train PPL:  29.805\n",
            "\t Val. Loss: 3.118 |  Val. PPL:  22.608\n",
            "Epoch: 07 | Time: 0m 3s\n",
            "\tTrain Loss: 3.182 | Train PPL:  24.089\n",
            "\t Val. Loss: 2.960 |  Val. PPL:  19.290\n",
            "Epoch: 08 | Time: 0m 3s\n",
            "\tTrain Loss: 3.021 | Train PPL:  20.519\n",
            "\t Val. Loss: 2.807 |  Val. PPL:  16.557\n",
            "Epoch: 09 | Time: 0m 3s\n",
            "\tTrain Loss: 2.893 | Train PPL:  18.047\n",
            "\t Val. Loss: 2.691 |  Val. PPL:  14.744\n",
            "Epoch: 10 | Time: 0m 3s\n",
            "\tTrain Loss: 2.779 | Train PPL:  16.098\n",
            "\t Val. Loss: 2.595 |  Val. PPL:  13.391\n",
            "Epoch: 11 | Time: 0m 3s\n",
            "\tTrain Loss: 2.682 | Train PPL:  14.611\n",
            "\t Val. Loss: 2.512 |  Val. PPL:  12.326\n",
            "Epoch: 12 | Time: 0m 3s\n",
            "\tTrain Loss: 2.598 | Train PPL:  13.443\n",
            "\t Val. Loss: 2.432 |  Val. PPL:  11.382\n",
            "Epoch: 13 | Time: 0m 3s\n",
            "\tTrain Loss: 2.525 | Train PPL:  12.493\n",
            "\t Val. Loss: 2.370 |  Val. PPL:  10.695\n",
            "Epoch: 14 | Time: 0m 3s\n",
            "\tTrain Loss: 2.454 | Train PPL:  11.636\n",
            "\t Val. Loss: 2.317 |  Val. PPL:  10.149\n",
            "Epoch: 15 | Time: 0m 3s\n",
            "\tTrain Loss: 2.391 | Train PPL:  10.929\n",
            "\t Val. Loss: 2.274 |  Val. PPL:   9.722\n",
            "Epoch: 16 | Time: 0m 3s\n",
            "\tTrain Loss: 2.335 | Train PPL:  10.331\n",
            "\t Val. Loss: 2.204 |  Val. PPL:   9.058\n",
            "Epoch: 17 | Time: 0m 3s\n",
            "\tTrain Loss: 2.282 | Train PPL:   9.792\n",
            "\t Val. Loss: 2.164 |  Val. PPL:   8.702\n",
            "Epoch: 18 | Time: 0m 3s\n",
            "\tTrain Loss: 2.230 | Train PPL:   9.302\n",
            "\t Val. Loss: 2.123 |  Val. PPL:   8.360\n",
            "Epoch: 19 | Time: 0m 3s\n",
            "\tTrain Loss: 2.178 | Train PPL:   8.832\n",
            "\t Val. Loss: 2.077 |  Val. PPL:   7.978\n",
            "Epoch: 20 | Time: 0m 3s\n",
            "\tTrain Loss: 2.130 | Train PPL:   8.418\n",
            "\t Val. Loss: 2.043 |  Val. PPL:   7.716\n",
            "Epoch: 21 | Time: 0m 3s\n",
            "\tTrain Loss: 2.090 | Train PPL:   8.085\n",
            "\t Val. Loss: 2.010 |  Val. PPL:   7.467\n",
            "Epoch: 22 | Time: 0m 3s\n",
            "\tTrain Loss: 2.046 | Train PPL:   7.736\n",
            "\t Val. Loss: 1.980 |  Val. PPL:   7.245\n",
            "Epoch: 23 | Time: 0m 3s\n",
            "\tTrain Loss: 2.007 | Train PPL:   7.444\n",
            "\t Val. Loss: 1.943 |  Val. PPL:   6.981\n",
            "Epoch: 24 | Time: 0m 3s\n",
            "\tTrain Loss: 1.970 | Train PPL:   7.168\n",
            "\t Val. Loss: 1.911 |  Val. PPL:   6.761\n",
            "Epoch: 25 | Time: 0m 3s\n",
            "\tTrain Loss: 1.934 | Train PPL:   6.918\n",
            "\t Val. Loss: 1.895 |  Val. PPL:   6.651\n",
            "Epoch: 26 | Time: 0m 3s\n",
            "\tTrain Loss: 1.896 | Train PPL:   6.662\n",
            "\t Val. Loss: 1.867 |  Val. PPL:   6.470\n",
            "Epoch: 27 | Time: 0m 3s\n",
            "\tTrain Loss: 1.861 | Train PPL:   6.432\n",
            "\t Val. Loss: 1.833 |  Val. PPL:   6.251\n",
            "Epoch: 28 | Time: 0m 3s\n",
            "\tTrain Loss: 1.828 | Train PPL:   6.223\n",
            "\t Val. Loss: 1.820 |  Val. PPL:   6.170\n",
            "Epoch: 29 | Time: 0m 3s\n",
            "\tTrain Loss: 1.799 | Train PPL:   6.042\n",
            "\t Val. Loss: 1.792 |  Val. PPL:   6.003\n",
            "Epoch: 30 | Time: 0m 3s\n",
            "\tTrain Loss: 1.765 | Train PPL:   5.842\n",
            "\t Val. Loss: 1.767 |  Val. PPL:   5.851\n",
            "Epoch: 31 | Time: 0m 3s\n",
            "\tTrain Loss: 1.737 | Train PPL:   5.679\n",
            "\t Val. Loss: 1.745 |  Val. PPL:   5.727\n",
            "Epoch: 32 | Time: 0m 3s\n",
            "\tTrain Loss: 1.707 | Train PPL:   5.512\n",
            "\t Val. Loss: 1.727 |  Val. PPL:   5.621\n",
            "Epoch: 33 | Time: 0m 3s\n",
            "\tTrain Loss: 1.677 | Train PPL:   5.347\n",
            "\t Val. Loss: 1.700 |  Val. PPL:   5.471\n",
            "Epoch: 34 | Time: 0m 3s\n",
            "\tTrain Loss: 1.648 | Train PPL:   5.195\n",
            "\t Val. Loss: 1.686 |  Val. PPL:   5.398\n",
            "Epoch: 35 | Time: 0m 3s\n",
            "\tTrain Loss: 1.625 | Train PPL:   5.077\n",
            "\t Val. Loss: 1.671 |  Val. PPL:   5.317\n",
            "Epoch: 36 | Time: 0m 3s\n",
            "\tTrain Loss: 1.599 | Train PPL:   4.948\n",
            "\t Val. Loss: 1.658 |  Val. PPL:   5.247\n",
            "Epoch: 37 | Time: 0m 3s\n",
            "\tTrain Loss: 1.573 | Train PPL:   4.821\n",
            "\t Val. Loss: 1.632 |  Val. PPL:   5.113\n",
            "Epoch: 38 | Time: 0m 3s\n",
            "\tTrain Loss: 1.547 | Train PPL:   4.698\n",
            "\t Val. Loss: 1.636 |  Val. PPL:   5.134\n",
            "Epoch: 39 | Time: 0m 3s\n",
            "\tTrain Loss: 1.524 | Train PPL:   4.592\n",
            "\t Val. Loss: 1.616 |  Val. PPL:   5.033\n",
            "Epoch: 40 | Time: 0m 3s\n",
            "\tTrain Loss: 1.499 | Train PPL:   4.479\n",
            "\t Val. Loss: 1.595 |  Val. PPL:   4.927\n",
            "Epoch: 41 | Time: 0m 3s\n",
            "\tTrain Loss: 1.481 | Train PPL:   4.396\n",
            "\t Val. Loss: 1.588 |  Val. PPL:   4.896\n",
            "Epoch: 42 | Time: 0m 3s\n",
            "\tTrain Loss: 1.452 | Train PPL:   4.271\n",
            "\t Val. Loss: 1.568 |  Val. PPL:   4.798\n",
            "Epoch: 43 | Time: 0m 3s\n",
            "\tTrain Loss: 1.430 | Train PPL:   4.180\n",
            "\t Val. Loss: 1.566 |  Val. PPL:   4.787\n",
            "Epoch: 44 | Time: 0m 3s\n",
            "\tTrain Loss: 1.412 | Train PPL:   4.106\n",
            "\t Val. Loss: 1.541 |  Val. PPL:   4.669\n",
            "Epoch: 45 | Time: 0m 3s\n",
            "\tTrain Loss: 1.387 | Train PPL:   4.005\n",
            "\t Val. Loss: 1.532 |  Val. PPL:   4.626\n",
            "Epoch: 46 | Time: 0m 3s\n",
            "\tTrain Loss: 1.369 | Train PPL:   3.931\n",
            "\t Val. Loss: 1.522 |  Val. PPL:   4.582\n",
            "Epoch: 47 | Time: 0m 3s\n",
            "\tTrain Loss: 1.348 | Train PPL:   3.851\n",
            "\t Val. Loss: 1.503 |  Val. PPL:   4.494\n",
            "Epoch: 48 | Time: 0m 3s\n",
            "\tTrain Loss: 1.329 | Train PPL:   3.778\n",
            "\t Val. Loss: 1.500 |  Val. PPL:   4.480\n",
            "Epoch: 49 | Time: 0m 3s\n",
            "\tTrain Loss: 1.305 | Train PPL:   3.689\n",
            "\t Val. Loss: 1.482 |  Val. PPL:   4.402\n",
            "Epoch: 50 | Time: 0m 3s\n",
            "\tTrain Loss: 1.291 | Train PPL:   3.638\n",
            "\t Val. Loss: 1.474 |  Val. PPL:   4.365\n",
            "Epoch: 51 | Time: 0m 3s\n",
            "\tTrain Loss: 1.271 | Train PPL:   3.563\n",
            "\t Val. Loss: 1.466 |  Val. PPL:   4.333\n",
            "Epoch: 52 | Time: 0m 3s\n",
            "\tTrain Loss: 1.253 | Train PPL:   3.500\n",
            "\t Val. Loss: 1.455 |  Val. PPL:   4.285\n",
            "Epoch: 53 | Time: 0m 3s\n",
            "\tTrain Loss: 1.233 | Train PPL:   3.431\n",
            "\t Val. Loss: 1.447 |  Val. PPL:   4.251\n",
            "Epoch: 54 | Time: 0m 3s\n",
            "\tTrain Loss: 1.210 | Train PPL:   3.352\n",
            "\t Val. Loss: 1.427 |  Val. PPL:   4.168\n",
            "Epoch: 55 | Time: 0m 3s\n",
            "\tTrain Loss: 1.196 | Train PPL:   3.308\n",
            "\t Val. Loss: 1.433 |  Val. PPL:   4.191\n",
            "Epoch: 56 | Time: 0m 3s\n",
            "\tTrain Loss: 1.185 | Train PPL:   3.269\n",
            "\t Val. Loss: 1.428 |  Val. PPL:   4.172\n",
            "Epoch: 57 | Time: 0m 3s\n",
            "\tTrain Loss: 1.165 | Train PPL:   3.206\n",
            "\t Val. Loss: 1.408 |  Val. PPL:   4.087\n",
            "Epoch: 58 | Time: 0m 3s\n",
            "\tTrain Loss: 1.148 | Train PPL:   3.153\n",
            "\t Val. Loss: 1.403 |  Val. PPL:   4.067\n",
            "Epoch: 59 | Time: 0m 3s\n",
            "\tTrain Loss: 1.129 | Train PPL:   3.092\n",
            "\t Val. Loss: 1.386 |  Val. PPL:   4.000\n",
            "Epoch: 60 | Time: 0m 3s\n",
            "\tTrain Loss: 1.113 | Train PPL:   3.043\n",
            "\t Val. Loss: 1.388 |  Val. PPL:   4.007\n",
            "Epoch: 61 | Time: 0m 3s\n",
            "\tTrain Loss: 1.097 | Train PPL:   2.995\n",
            "\t Val. Loss: 1.377 |  Val. PPL:   3.963\n",
            "Epoch: 62 | Time: 0m 3s\n",
            "\tTrain Loss: 1.082 | Train PPL:   2.950\n",
            "\t Val. Loss: 1.362 |  Val. PPL:   3.905\n",
            "Epoch: 63 | Time: 0m 3s\n",
            "\tTrain Loss: 1.064 | Train PPL:   2.899\n",
            "\t Val. Loss: 1.360 |  Val. PPL:   3.894\n",
            "Epoch: 64 | Time: 0m 3s\n",
            "\tTrain Loss: 1.049 | Train PPL:   2.853\n",
            "\t Val. Loss: 1.358 |  Val. PPL:   3.887\n",
            "Epoch: 65 | Time: 0m 3s\n",
            "\tTrain Loss: 1.033 | Train PPL:   2.810\n",
            "\t Val. Loss: 1.351 |  Val. PPL:   3.860\n",
            "Epoch: 66 | Time: 0m 3s\n",
            "\tTrain Loss: 1.021 | Train PPL:   2.775\n",
            "\t Val. Loss: 1.348 |  Val. PPL:   3.848\n",
            "Epoch: 67 | Time: 0m 3s\n",
            "\tTrain Loss: 1.000 | Train PPL:   2.719\n",
            "\t Val. Loss: 1.337 |  Val. PPL:   3.808\n",
            "Epoch: 68 | Time: 0m 3s\n",
            "\tTrain Loss: 0.991 | Train PPL:   2.694\n",
            "\t Val. Loss: 1.324 |  Val. PPL:   3.759\n",
            "Epoch: 69 | Time: 0m 3s\n",
            "\tTrain Loss: 0.974 | Train PPL:   2.648\n",
            "\t Val. Loss: 1.332 |  Val. PPL:   3.787\n",
            "Epoch: 70 | Time: 0m 3s\n",
            "\tTrain Loss: 0.963 | Train PPL:   2.619\n",
            "\t Val. Loss: 1.316 |  Val. PPL:   3.730\n",
            "Epoch: 71 | Time: 0m 3s\n",
            "\tTrain Loss: 0.950 | Train PPL:   2.585\n",
            "\t Val. Loss: 1.311 |  Val. PPL:   3.710\n",
            "Epoch: 72 | Time: 0m 3s\n",
            "\tTrain Loss: 0.934 | Train PPL:   2.545\n",
            "\t Val. Loss: 1.303 |  Val. PPL:   3.682\n",
            "Epoch: 73 | Time: 0m 3s\n",
            "\tTrain Loss: 0.922 | Train PPL:   2.514\n",
            "\t Val. Loss: 1.291 |  Val. PPL:   3.638\n",
            "Epoch: 74 | Time: 0m 3s\n",
            "\tTrain Loss: 0.907 | Train PPL:   2.477\n",
            "\t Val. Loss: 1.286 |  Val. PPL:   3.620\n",
            "Epoch: 75 | Time: 0m 3s\n",
            "\tTrain Loss: 0.897 | Train PPL:   2.453\n",
            "\t Val. Loss: 1.295 |  Val. PPL:   3.651\n",
            "Epoch: 76 | Time: 0m 3s\n",
            "\tTrain Loss: 0.881 | Train PPL:   2.414\n",
            "\t Val. Loss: 1.286 |  Val. PPL:   3.620\n",
            "Epoch: 77 | Time: 0m 3s\n",
            "\tTrain Loss: 0.872 | Train PPL:   2.391\n",
            "\t Val. Loss: 1.265 |  Val. PPL:   3.544\n",
            "Epoch: 78 | Time: 0m 3s\n",
            "\tTrain Loss: 0.860 | Train PPL:   2.364\n",
            "\t Val. Loss: 1.269 |  Val. PPL:   3.556\n",
            "Epoch: 79 | Time: 0m 3s\n",
            "\tTrain Loss: 0.848 | Train PPL:   2.335\n",
            "\t Val. Loss: 1.277 |  Val. PPL:   3.587\n",
            "Epoch: 80 | Time: 0m 3s\n",
            "\tTrain Loss: 0.836 | Train PPL:   2.307\n",
            "\t Val. Loss: 1.264 |  Val. PPL:   3.539\n",
            "Epoch: 81 | Time: 0m 3s\n",
            "\tTrain Loss: 0.822 | Train PPL:   2.276\n",
            "\t Val. Loss: 1.267 |  Val. PPL:   3.551\n",
            "Epoch: 82 | Time: 0m 3s\n",
            "\tTrain Loss: 0.810 | Train PPL:   2.249\n",
            "\t Val. Loss: 1.248 |  Val. PPL:   3.483\n",
            "Epoch: 83 | Time: 0m 3s\n",
            "\tTrain Loss: 0.804 | Train PPL:   2.233\n",
            "\t Val. Loss: 1.251 |  Val. PPL:   3.495\n",
            "Epoch: 84 | Time: 0m 3s\n",
            "\tTrain Loss: 0.785 | Train PPL:   2.193\n",
            "\t Val. Loss: 1.237 |  Val. PPL:   3.444\n",
            "Epoch: 85 | Time: 0m 3s\n",
            "\tTrain Loss: 0.775 | Train PPL:   2.170\n",
            "\t Val. Loss: 1.254 |  Val. PPL:   3.504\n",
            "Epoch: 86 | Time: 0m 3s\n",
            "\tTrain Loss: 0.764 | Train PPL:   2.146\n",
            "\t Val. Loss: 1.236 |  Val. PPL:   3.441\n",
            "Epoch: 87 | Time: 0m 3s\n",
            "\tTrain Loss: 0.755 | Train PPL:   2.127\n",
            "\t Val. Loss: 1.240 |  Val. PPL:   3.456\n",
            "Epoch: 88 | Time: 0m 3s\n",
            "\tTrain Loss: 0.745 | Train PPL:   2.105\n",
            "\t Val. Loss: 1.238 |  Val. PPL:   3.450\n",
            "Epoch: 89 | Time: 0m 3s\n",
            "\tTrain Loss: 0.733 | Train PPL:   2.081\n",
            "\t Val. Loss: 1.214 |  Val. PPL:   3.368\n",
            "Epoch: 90 | Time: 0m 3s\n",
            "\tTrain Loss: 0.722 | Train PPL:   2.059\n",
            "\t Val. Loss: 1.224 |  Val. PPL:   3.401\n",
            "Epoch: 91 | Time: 0m 3s\n",
            "\tTrain Loss: 0.713 | Train PPL:   2.040\n",
            "\t Val. Loss: 1.229 |  Val. PPL:   3.417\n",
            "Epoch: 92 | Time: 0m 3s\n",
            "\tTrain Loss: 0.702 | Train PPL:   2.018\n",
            "\t Val. Loss: 1.221 |  Val. PPL:   3.392\n",
            "Epoch: 93 | Time: 0m 3s\n",
            "\tTrain Loss: 0.694 | Train PPL:   2.002\n",
            "\t Val. Loss: 1.219 |  Val. PPL:   3.383\n",
            "Epoch: 94 | Time: 0m 3s\n",
            "\tTrain Loss: 0.684 | Train PPL:   1.982\n",
            "\t Val. Loss: 1.212 |  Val. PPL:   3.362\n",
            "Epoch: 95 | Time: 0m 3s\n",
            "\tTrain Loss: 0.675 | Train PPL:   1.964\n",
            "\t Val. Loss: 1.218 |  Val. PPL:   3.382\n",
            "Epoch: 96 | Time: 0m 3s\n",
            "\tTrain Loss: 0.666 | Train PPL:   1.946\n",
            "\t Val. Loss: 1.205 |  Val. PPL:   3.336\n",
            "Epoch: 97 | Time: 0m 3s\n",
            "\tTrain Loss: 0.657 | Train PPL:   1.929\n",
            "\t Val. Loss: 1.213 |  Val. PPL:   3.362\n",
            "Epoch: 98 | Time: 0m 3s\n",
            "\tTrain Loss: 0.649 | Train PPL:   1.914\n",
            "\t Val. Loss: 1.205 |  Val. PPL:   3.338\n",
            "Epoch: 99 | Time: 0m 3s\n",
            "\tTrain Loss: 0.640 | Train PPL:   1.896\n",
            "\t Val. Loss: 1.198 |  Val. PPL:   3.313\n",
            "Epoch: 100 | Time: 0m 3s\n",
            "\tTrain Loss: 0.628 | Train PPL:   1.873\n",
            "\t Val. Loss: 1.198 |  Val. PPL:   3.314\n"
          ],
          "name": "stdout"
        }
      ]
    },
    {
      "cell_type": "code",
      "metadata": {
        "id": "fl3DPHhlFipM"
      },
      "source": [
        ""
      ],
      "execution_count": null,
      "outputs": []
    },
    {
      "cell_type": "code",
      "metadata": {
        "id": "f3_aq7QTPBFc",
        "colab": {
          "base_uri": "https://localhost:8080/"
        },
        "outputId": "3f9d94cb-49d1-4038-f093-e2b18a592b8f"
      },
      "source": [
        "model.load_state_dict(torch.load('tut6-model.pt'))\n",
        "\n",
        "test_loss = evaluate(model, test_iterator, criterion)\n",
        "\n",
        "print(f'| Test Loss: {test_loss:.3f} | Test PPL: {math.exp(test_loss):7.3f} |')"
      ],
      "execution_count": null,
      "outputs": [
        {
          "output_type": "stream",
          "text": [
            "| Test Loss: 1.351 | Test PPL:   3.862 |\n"
          ],
          "name": "stdout"
        }
      ]
    },
    {
      "cell_type": "code",
      "metadata": {
        "colab": {
          "base_uri": "https://localhost:8080/",
          "height": 163
        },
        "id": "5cB-6KpfyESd",
        "outputId": "9505b10d-4868-46a9-d439-0de3d73bad35"
      },
      "source": [
        ""
      ],
      "execution_count": null,
      "outputs": [
        {
          "output_type": "error",
          "ename": "NameError",
          "evalue": "ignored",
          "traceback": [
            "\u001b[0;31m---------------------------------------------------------------------------\u001b[0m",
            "\u001b[0;31mNameError\u001b[0m                                 Traceback (most recent call last)",
            "\u001b[0;32m<ipython-input-53-41e7696064c5>\u001b[0m in \u001b[0;36m<module>\u001b[0;34m()\u001b[0m\n\u001b[0;32m----> 1\u001b[0;31m \u001b[0;34m[\u001b[0m\u001b[0msrc_field\u001b[0m\u001b[0;34m.\u001b[0m\u001b[0minit_token\u001b[0m\u001b[0;34m]\u001b[0m\u001b[0;34m\u001b[0m\u001b[0;34m\u001b[0m\u001b[0m\n\u001b[0m",
            "\u001b[0;31mNameError\u001b[0m: name 'src_field' is not defined"
          ]
        }
      ]
    },
    {
      "cell_type": "code",
      "metadata": {
        "id": "ieIjql9uPKH1"
      },
      "source": [
        "def translate_sentence(sentence, src_field, trg_field, model, device, max_len = 250):\n",
        "    \n",
        "    model.eval()\n",
        "        \n",
        "    if isinstance(sentence, str):\n",
        "        #print(\"hi\")\n",
        "        #nlp = spacy.load('en')\n",
        "        tokens = [token.text.lower() for token in nlp(sentence)]\n",
        "    else:\n",
        "        \n",
        "        tokens = [token.lower() for token in sentence]\n",
        "        print(tokens)\n",
        "\n",
        "    tokens = [src_field.init_token] + tokens + [src_field.eos_token]\n",
        "    #print(src_field.init_token)\n",
        "    #print(\"3\")\n",
        "    #print(src_field.vocab.stoi[src_field.init_token])\n",
        "    src_indexes = [src_field.vocab.stoi[token] for token in tokens]\n",
        "    \n",
        "    src_tensor = torch.LongTensor(src_indexes).unsqueeze(0).to(device)\n",
        "    #print(src_tensor.shape)\n",
        "\n",
        "    src_mask = model.make_src_mask(src_tensor)\n",
        "    \n",
        "    with torch.no_grad():\n",
        "        enc_src = model.encoder(src_tensor, src_mask)\n",
        "\n",
        "    trg_indexes = [trg_field.vocab.stoi[trg_field.init_token]]\n",
        "\n",
        "    for i in range(max_len):\n",
        "\n",
        "        trg_tensor = torch.LongTensor(trg_indexes).unsqueeze(0).to(device)\n",
        "\n",
        "        trg_mask = model.make_trg_mask(trg_tensor)\n",
        "        \n",
        "        with torch.no_grad():\n",
        "            output, attention = model.decoder(trg_tensor, enc_src, trg_mask, src_mask)\n",
        "        \n",
        "        pred_token = output.argmax(2)[:,-1].item()\n",
        "        \n",
        "        trg_indexes.append(pred_token)\n",
        "\n",
        "        if pred_token == trg_field.vocab.stoi[trg_field.eos_token]:\n",
        "            break\n",
        "    \n",
        "    trg_tokens = [trg_field.vocab.itos[i] for i in trg_indexes]\n",
        "    \n",
        "    return trg_tokens[1:], attention"
      ],
      "execution_count": null,
      "outputs": []
    },
    {
      "cell_type": "code",
      "metadata": {
        "id": "WTBipndfPOlX"
      },
      "source": [
        "def display_attention(sentence, translation, attention, n_heads = 8, n_rows = 4, n_cols = 2):\n",
        "    \n",
        "    assert n_rows * n_cols == n_heads\n",
        "    \n",
        "    fig = plt.figure(figsize=(15,25))\n",
        "    \n",
        "    for i in range(n_heads):\n",
        "        \n",
        "        ax = fig.add_subplot(n_rows, n_cols, i+1)\n",
        "        \n",
        "        _attention = attention.squeeze(0)[i].cpu().detach().numpy()\n",
        "\n",
        "        cax = ax.matshow(_attention, cmap='bone')\n",
        "\n",
        "        ax.tick_params(labelsize=12)\n",
        "        ax.set_xticklabels(['']+['<sos>']+[t.lower() for t in sentence]+['<eos>'], \n",
        "                           rotation=45)\n",
        "        ax.set_yticklabels(['']+translation)\n",
        "\n",
        "        ax.xaxis.set_major_locator(ticker.MultipleLocator(1))\n",
        "        ax.yaxis.set_major_locator(ticker.MultipleLocator(1))\n",
        "\n",
        "    plt.show()"
      ],
      "execution_count": null,
      "outputs": []
    },
    {
      "cell_type": "code",
      "metadata": {
        "id": "TJHNiBOoPQhG",
        "colab": {
          "base_uri": "https://localhost:8080/"
        },
        "outputId": "de27f17b-006d-4368-8470-6333a3097b8f"
      },
      "source": [
        "example_idx = 14\n",
        "\n",
        "src = vars(train_data.examples[example_idx])['src']\n",
        "trg = vars(train_data.examples[example_idx])['trg']\n",
        "\n",
        "print(f'src = {src}')\n",
        "print(f'trg = {trg}')"
      ],
      "execution_count": null,
      "outputs": [
        {
          "output_type": "stream",
          "text": [
            "src = ['write', 'a', 'program', 'to', 'capitalize', 'the', 'first', 'letter', 'of', 'every', 'word', 'in', 'a', 'string', 'and', 'print', 'it']\n",
            "trg = ['\"', '\\\\n', 'string', ' ', '=', ' ', \"'\", 'The', 'quick', 'brown', 'fox', 'jumps', 'over', 'the', 'lazy', 'dog', \"'\", '\\\\n', 'print', '(', 'string', '.', 'title', '(', ' ', ')', ' ', ')', '\"']\n"
          ],
          "name": "stdout"
        }
      ]
    },
    {
      "cell_type": "code",
      "metadata": {
        "id": "dZSai6VDPR3o",
        "colab": {
          "base_uri": "https://localhost:8080/"
        },
        "outputId": "c24273c5-1b6f-4ba4-8301-cc11d0109d74"
      },
      "source": [
        "translation, attention = translate_sentence(src, SRC, TRG, model, device)\n",
        "\n",
        "print(f'predicted trg = {translation}')"
      ],
      "execution_count": null,
      "outputs": [
        {
          "output_type": "stream",
          "text": [
            "['write', 'a', 'program', 'to', 'capitalize', 'the', 'first', 'letter', 'of', 'every', 'word', 'in', 'a', 'string', 'and', 'print', 'it']\n",
            "predicted trg = ['\"', '\\\\n', 'string', ' ', '=', ' ', \"'\", 'the', 'quick', 'brown', 'fox', 'jumps', \"'\", '\\\\n', 'print', '(', 'string', '.', 'split', '(', ' ', ')', ' ', ')', '\"', '<eos>']\n"
          ],
          "name": "stdout"
        }
      ]
    },
    {
      "cell_type": "code",
      "metadata": {
        "id": "CHWqhmvtPTJv",
        "colab": {
          "base_uri": "https://localhost:8080/",
          "height": 1000
        },
        "outputId": "ab2db791-f3df-4f6f-b0c6-9254aed26cf8"
      },
      "source": [
        "display_attention(src, translation, attention)\n"
      ],
      "execution_count": null,
      "outputs": [
        {
          "output_type": "display_data",
          "data": {
            "image/png": "[encoded data removed]",
            "text/plain": [
              "<Figure size 1080x1800 with 8 Axes>"
            ]
          },
          "metadata": {
            "tags": [],
            "needs_background": "light"
          }
        }
      ]
    },
    {
      "cell_type": "code",
      "metadata": {
        "id": "0YyJFiJXPVjr",
        "colab": {
          "base_uri": "https://localhost:8080/"
        },
        "outputId": "494f72ae-a566-48f3-bff3-056549ad86c3"
      },
      "source": [
        "example_idx = 6\n",
        "\n",
        "src = vars(valid_data.examples[example_idx])['src']\n",
        "trg = vars(valid_data.examples[example_idx])['trg']\n",
        "\n",
        "print(f'src = {src}')\n",
        "print(f'trg = {trg}')"
      ],
      "execution_count": null,
      "outputs": [
        {
          "output_type": "stream",
          "text": [
            "src = ['write', 'a', 'function', 'to', 'check', 'whether', 'following', 'json', 'is', 'valid', 'or', 'invalid']\n",
            "trg = [\"'\", '\\\\n', 'import', 'json', '\\\\n', 'def', 'validateJSON', '(', 'jsonData', ')', '  ', ':', '  ', '\\\\n', ' ', '\\\\t', 'try', ' ', ':', '  ', '\\\\n', ' ', '\\\\t\\\\t', 'json', '.', 'loads', '(', 'jsonData', ')', ' ', '\\\\n', ' ', '\\\\t', 'except', 'ValueError', 'as', 'err', ' ', ':', '  ', '\\\\n', ' ', '\\\\t\\\\t', 'return', 'False', '\\\\n', ' ', '\\\\t', 'return', 'True', \"'\"]\n"
          ],
          "name": "stdout"
        }
      ]
    },
    {
      "cell_type": "code",
      "metadata": {
        "id": "LDmsvAhoPWze",
        "colab": {
          "base_uri": "https://localhost:8080/",
          "height": 371
        },
        "outputId": "2f714030-a962-42cd-c864-bbc559554e02"
      },
      "source": [
        "translation, attention = translate_sentence(src, src, trg, model, device)\n",
        "\n",
        "print(f'predicted trg = {translation}')"
      ],
      "execution_count": null,
      "outputs": [
        {
          "output_type": "stream",
          "text": [
            "['write', 'a', 'function', 'to', 'check', 'whether', 'following', 'json', 'is', 'valid', 'or', 'invalid']\n"
          ],
          "name": "stdout"
        },
        {
          "output_type": "error",
          "ename": "AttributeError",
          "evalue": "ignored",
          "traceback": [
            "\u001b[0;31m---------------------------------------------------------------------------\u001b[0m",
            "\u001b[0;31mAttributeError\u001b[0m                            Traceback (most recent call last)",
            "\u001b[0;32m<ipython-input-59-50e419915969>\u001b[0m in \u001b[0;36m<module>\u001b[0;34m()\u001b[0m\n\u001b[0;32m----> 1\u001b[0;31m \u001b[0mtranslation\u001b[0m\u001b[0;34m,\u001b[0m \u001b[0mattention\u001b[0m \u001b[0;34m=\u001b[0m \u001b[0mtranslate_sentence\u001b[0m\u001b[0;34m(\u001b[0m\u001b[0msrc\u001b[0m\u001b[0;34m,\u001b[0m \u001b[0msrc\u001b[0m\u001b[0;34m,\u001b[0m \u001b[0mtrg\u001b[0m\u001b[0;34m,\u001b[0m \u001b[0mmodel\u001b[0m\u001b[0;34m,\u001b[0m \u001b[0mdevice\u001b[0m\u001b[0;34m)\u001b[0m\u001b[0;34m\u001b[0m\u001b[0;34m\u001b[0m\u001b[0m\n\u001b[0m\u001b[1;32m      2\u001b[0m \u001b[0;34m\u001b[0m\u001b[0m\n\u001b[1;32m      3\u001b[0m \u001b[0mprint\u001b[0m\u001b[0;34m(\u001b[0m\u001b[0;34mf'predicted trg = {translation}'\u001b[0m\u001b[0;34m)\u001b[0m\u001b[0;34m\u001b[0m\u001b[0;34m\u001b[0m\u001b[0m\n",
            "\u001b[0;32m<ipython-input-53-508d49108532>\u001b[0m in \u001b[0;36mtranslate_sentence\u001b[0;34m(sentence, src_field, trg_field, model, device, max_len)\u001b[0m\n\u001b[1;32m     12\u001b[0m         \u001b[0mprint\u001b[0m\u001b[0;34m(\u001b[0m\u001b[0mtokens\u001b[0m\u001b[0;34m)\u001b[0m\u001b[0;34m\u001b[0m\u001b[0;34m\u001b[0m\u001b[0m\n\u001b[1;32m     13\u001b[0m \u001b[0;34m\u001b[0m\u001b[0m\n\u001b[0;32m---> 14\u001b[0;31m     \u001b[0mtokens\u001b[0m \u001b[0;34m=\u001b[0m \u001b[0;34m[\u001b[0m\u001b[0msrc_field\u001b[0m\u001b[0;34m.\u001b[0m\u001b[0minit_token\u001b[0m\u001b[0;34m]\u001b[0m \u001b[0;34m+\u001b[0m \u001b[0mtokens\u001b[0m \u001b[0;34m+\u001b[0m \u001b[0;34m[\u001b[0m\u001b[0msrc_field\u001b[0m\u001b[0;34m.\u001b[0m\u001b[0meos_token\u001b[0m\u001b[0;34m]\u001b[0m\u001b[0;34m\u001b[0m\u001b[0;34m\u001b[0m\u001b[0m\n\u001b[0m\u001b[1;32m     15\u001b[0m     \u001b[0;31m#print(src_field.init_token)\u001b[0m\u001b[0;34m\u001b[0m\u001b[0;34m\u001b[0m\u001b[0;34m\u001b[0m\u001b[0m\n\u001b[1;32m     16\u001b[0m     \u001b[0;31m#print(\"3\")\u001b[0m\u001b[0;34m\u001b[0m\u001b[0;34m\u001b[0m\u001b[0;34m\u001b[0m\u001b[0m\n",
            "\u001b[0;31mAttributeError\u001b[0m: 'list' object has no attribute 'init_token'"
          ]
        }
      ]
    },
    {
      "cell_type": "code",
      "metadata": {
        "id": "9k_YvNBPPX02",
        "colab": {
          "base_uri": "https://localhost:8080/",
          "height": 1000
        },
        "outputId": "5c4c9141-23ff-4d5f-e7a6-bde17307399e"
      },
      "source": [
        "display_attention(src, translation, attention)\n"
      ],
      "execution_count": null,
      "outputs": [
        {
          "output_type": "display_data",
          "data": {
            "image/png": "[encoded data removed]",
            "text/plain": [
              "<Figure size 1080x1800 with 8 Axes>"
            ]
          },
          "metadata": {
            "tags": [],
            "needs_background": "light"
          }
        }
      ]
    },
    {
      "cell_type": "code",
      "metadata": {
        "id": "V4RJbrqmPZkX",
        "colab": {
          "base_uri": "https://localhost:8080/"
        },
        "outputId": "c10255c5-a8b0-4d42-e974-0f4c5bdce562"
      },
      "source": [
        "example_idx = 10\n",
        "\n",
        "src = vars(test_data.examples[example_idx])['src']\n",
        "trg = vars(test_data.examples[example_idx])['trg']\n",
        "\n",
        "print(f'src = {src}')\n",
        "print(f'trg = {trg}')"
      ],
      "execution_count": null,
      "outputs": [
        {
          "output_type": "stream",
          "text": [
            "src = ['write', 'a', 'python', 'program', 'to', 'check', 'if', 'a', 'number', 'is', 'an', 'armstrong', 'number']\n",
            "trg = [\"'\", '\\\\n', 'def', 'amstrong', '_', 'check', '(', 'n', ')', '  ', ':', '  ', '\\\\n', ' ', '\\\\t', 'a', '=', 'list', '(', 'map', '(', 'int', ',', 'str', '(', 'n', ')', ' ', ')', ' ', ')', ' ', '\\\\n', ' ', '\\\\t', 'b', '=', 'list', '(', 'map', '(', 'lambda', 'x', ' ', ':', ' ', 'x', '*', ' ', '*', '3', ',', 'a', ')', ' ', ')', ' ', '\\\\n', ' ', '\\\\t', 'if', '(', 'sum', '(', 'b', ')', ' ', '=', ' ', '=', 'n', ')', '  ', ':', '  ', '\\\\n', ' ', '\\\\t\\\\t', 'return', 'True', '\\\\n', ' ', '\\\\t', 'else', ' ', ':', '  ', '\\\\n', ' ', '\\\\t\\\\t', 'return', 'False', \"'\"]\n"
          ],
          "name": "stdout"
        }
      ]
    },
    {
      "cell_type": "code",
      "metadata": {
        "id": "oN00r7FqPbGj",
        "colab": {
          "base_uri": "https://localhost:8080/"
        },
        "outputId": "b026318b-e000-4338-8446-cb000125ac4f"
      },
      "source": [
        "translation, attention = translate_sentence(src, SRC, TRG, model, device)\n",
        "\n",
        "print(f'predicted trg = {translation}')"
      ],
      "execution_count": null,
      "outputs": [
        {
          "output_type": "stream",
          "text": [
            "['write', 'a', 'python', 'program', 'to', 'check', 'if', 'a', 'number', 'is', 'an', 'armstrong', 'number']\n",
            "predicted trg = [\"'\", '\\\\n', 'def', 'add', '_', 'number', '(', 'n', ')', '  ', ':', '  ', '\\\\n', ' ', '\\\\t', 'if', 'n', ' ', '=', ' ', '=', ' ', '0', ' ', ':', '  ', '\\\\n', ' ', '\\\\t\\\\t', 'return', '0', '\\\\n', ' ', '\\\\t', 'else', ' ', ':', '  ', '\\\\n', ' ', '\\\\t\\\\t', 'return', 'False', '\\\\n', ' ', '\\\\t', 'else', ' ', ':', '  ', '\\\\n', ' ', '\\\\t\\\\t', 'return', 'False', \"'\", '<eos>']\n"
          ],
          "name": "stdout"
        }
      ]
    },
    {
      "cell_type": "code",
      "metadata": {
        "colab": {
          "base_uri": "https://localhost:8080/"
        },
        "id": "mXHywnlFHov9",
        "outputId": "69cbefc0-e51d-4eab-b139-b573269a8704"
      },
      "source": [
        "print(type(translation))"
      ],
      "execution_count": null,
      "outputs": [
        {
          "output_type": "stream",
          "text": [
            "<class 'list'>\n"
          ],
          "name": "stdout"
        }
      ]
    },
    {
      "cell_type": "code",
      "metadata": {
        "id": "xsZbEgzHIQs1"
      },
      "source": [
        "predictedCode2 = ' '.join([str(elem) for elem in translation]).strip().format()"
      ],
      "execution_count": null,
      "outputs": []
    },
    {
      "cell_type": "code",
      "metadata": {
        "colab": {
          "base_uri": "https://localhost:8080/",
          "height": 54
        },
        "id": "EoOwZ0N8Jtva",
        "outputId": "b4df8998-cc45-4a2b-88bd-61cb681cc966"
      },
      "source": [
        "predictedCode2"
      ],
      "execution_count": null,
      "outputs": [
        {
          "output_type": "execute_result",
          "data": {
            "application/vnd.google.colaboratory.intrinsic+json": {
              "type": "string"
            },
            "text/plain": [
              "\"' \\\\n def add _ number ( n )    :    \\\\n   \\\\t if n   =   =   0   :    \\\\n   \\\\t\\\\t return 0 \\\\n   \\\\t else   :    \\\\n   \\\\t\\\\t return False \\\\n   \\\\t else   :    \\\\n   \\\\t\\\\t return False ' <eos>\""
            ]
          },
          "metadata": {
            "tags": []
          },
          "execution_count": 100
        }
      ]
    },
    {
      "cell_type": "code",
      "metadata": {
        "id": "3KJoz1KBJBCZ"
      },
      "source": [
        "formatted_output2 = predictedCode2.replace('\\\\n', '\\n').replace('\\\\t', '\\t').strip()"
      ],
      "execution_count": null,
      "outputs": []
    },
    {
      "cell_type": "code",
      "metadata": {
        "id": "p_3510BfJT5P"
      },
      "source": [
        "outputs = formatted_output2.splitlines()"
      ],
      "execution_count": null,
      "outputs": []
    },
    {
      "cell_type": "code",
      "metadata": {
        "id": "DQuofeO6K_Hf"
      },
      "source": [
        "newOutput = ''\n",
        "for output in outputs:\n",
        "  output = output.replace('\\t', ' '*4)\n",
        "  newOutput = newOutput + '\\n' + output\n"
      ],
      "execution_count": null,
      "outputs": []
    },
    {
      "cell_type": "code",
      "metadata": {
        "colab": {
          "base_uri": "https://localhost:8080/",
          "height": 135
        },
        "id": "i4wwPdSdMBpo",
        "outputId": "d5409cb0-c487-4477-b24b-b818070c0748"
      },
      "source": [
        "from ast import literal_eval\n",
        "literal_eval(newOutput)"
      ],
      "execution_count": null,
      "outputs": [
        {
          "output_type": "error",
          "ename": "SyntaxError",
          "evalue": "ignored",
          "traceback": [
            "\u001b[0;36m  File \u001b[0;32m\"<unknown>\"\u001b[0;36m, line \u001b[0;32m2\u001b[0m\n\u001b[0;31m    '\u001b[0m\n\u001b[0m     ^\u001b[0m\n\u001b[0;31mSyntaxError\u001b[0m\u001b[0;31m:\u001b[0m EOL while scanning string literal\n"
          ]
        }
      ]
    },
    {
      "cell_type": "code",
      "metadata": {
        "colab": {
          "base_uri": "https://localhost:8080/",
          "height": 54
        },
        "id": "nz3aMsxCLfgi",
        "outputId": "bd92b65b-b591-4110-a045-1e54d9b2fcf7"
      },
      "source": [
        "newOutput"
      ],
      "execution_count": null,
      "outputs": [
        {
          "output_type": "execute_result",
          "data": {
            "application/vnd.google.colaboratory.intrinsic+json": {
              "type": "string"
            },
            "text/plain": [
              "\"\\n'\\ndef add _ number ( n )    :\\nif n   =   =   0   :\\nreturn 0\\nelse   :\\nreturn False\\nelse   :\\nreturn False ' <eos>\""
            ]
          },
          "metadata": {
            "tags": []
          },
          "execution_count": 109
        }
      ]
    },
    {
      "cell_type": "code",
      "metadata": {
        "colab": {
          "base_uri": "https://localhost:8080/"
        },
        "id": "-jutqyqqKiy2",
        "outputId": "fae76b72-a7f9-49b6-f0d6-07b4a6268b8e"
      },
      "source": [
        "outputs"
      ],
      "execution_count": null,
      "outputs": [
        {
          "output_type": "execute_result",
          "data": {
            "text/plain": [
              "[\"' \",\n",
              " ' def add _ number ( n )    :    ',\n",
              " '   \\t if n   =   =   0   :    ',\n",
              " '   \\t\\t return 0 ',\n",
              " '   \\t else   :    ',\n",
              " '   \\t\\t return False ',\n",
              " '   \\t else   :    ',\n",
              " \"   \\t\\t return False ' <eos>\"]"
            ]
          },
          "metadata": {
            "tags": []
          },
          "execution_count": 103
        }
      ]
    },
    {
      "cell_type": "code",
      "metadata": {
        "colab": {
          "base_uri": "https://localhost:8080/",
          "height": 35
        },
        "id": "L-cPMNIEJ7i6",
        "outputId": "eff5bf45-5e57-409c-8920-0984e80efff7"
      },
      "source": [
        "import re\n",
        "re.sub(\"\\s\\s+\" , \" \", formatted_output1)"
      ],
      "execution_count": null,
      "outputs": [
        {
          "output_type": "execute_result",
          "data": {
            "application/vnd.google.colaboratory.intrinsic+json": {
              "type": "string"
            },
            "text/plain": [
              "\"' def add _ number ( n ) : if n = = 0 : return 0 else : return False else : return False ' <eos>\""
            ]
          },
          "metadata": {
            "tags": []
          },
          "execution_count": 97
        }
      ]
    },
    {
      "cell_type": "code",
      "metadata": {
        "colab": {
          "base_uri": "https://localhost:8080/"
        },
        "id": "UHQU33IuIf1C",
        "outputId": "a6428f18-c5a4-45a9-8848-dc5ae66f5f3d"
      },
      "source": [
        "print(formatted_output1)"
      ],
      "execution_count": null,
      "outputs": [
        {
          "output_type": "stream",
          "text": [
            "' \n",
            " def add _ number ( n )    :    \n",
            "   \t if n   =   =   0   :    \n",
            "   \t\t return 0 \n",
            "   \t else   :    \n",
            "   \t\t return False \n",
            "   \t else   :    \n",
            "   \t\t return False ' <eos>\n"
          ],
          "name": "stdout"
        }
      ]
    },
    {
      "cell_type": "code",
      "metadata": {
        "id": "ixzIycViPcI3",
        "colab": {
          "base_uri": "https://localhost:8080/",
          "height": 1000
        },
        "outputId": "572a69b6-d9de-4b21-de25-9f00566907f9"
      },
      "source": [
        "display_attention(src, translation, attention)\n"
      ],
      "execution_count": null,
      "outputs": [
        {
          "output_type": "display_data",
          "data": {
            "image/png": "[encoded data removed]",
            "text/plain": [
              "<Figure size 1080x1800 with 8 Axes>"
            ]
          },
          "metadata": {
            "tags": [],
            "needs_background": "light"
          }
        }
      ]
    },
    {
      "cell_type": "code",
      "metadata": {
        "id": "ksrj1V2YPeCa"
      },
      "source": [
        "from torchtext.data.metrics import bleu_score\n",
        "\n",
        "def calculate_bleu(data, src_field, trg_field, model, device, max_len = 50):\n",
        "    \n",
        "    trgs = []\n",
        "    pred_trgs = []\n",
        "    \n",
        "    for datum in data:\n",
        "        \n",
        "        src = vars(datum)['src']\n",
        "        trg = vars(datum)['trg']\n",
        "        \n",
        "        pred_trg, _ = translate_sentence(src, src_field, trg_field, model, device, max_len)\n",
        "        \n",
        "        #cut off <eos> token\n",
        "        pred_trg = pred_trg[:-1]\n",
        "        \n",
        "        pred_trgs.append(pred_trg)\n",
        "        trgs.append([trg])\n",
        "        \n",
        "    return bleu_score(pred_trgs, trgs)"
      ],
      "execution_count": null,
      "outputs": []
    },
    {
      "cell_type": "code",
      "metadata": {
        "id": "uWnMnm_UPfNp",
        "colab": {
          "base_uri": "https://localhost:8080/",
          "height": 1000
        },
        "outputId": "1dc05bbb-69c8-4bed-9ba8-c5c0a64ca76c"
      },
      "source": [
        "bleu_score = calculate_bleu(test_data, SRC, TRG, model, device)\n",
        "\n",
        "print(f'BLEU score = {bleu_score*100:.2f}')"
      ],
      "execution_count": null,
      "outputs": [
        {
          "output_type": "stream",
          "text": [
            "['6', 'python', 'add', 'all', 'values', 'of', 'another', 'list']\n",
            "['define', 'a', 'function', 'which', 'can', 'generate', 'a', 'dictionary', 'where', 'the', 'keys', 'are', 'numbers', 'between', '1', 'and', '20', '(', 'both', 'included', ')', 'and', 'the', 'values', 'are', 'square', 'of', 'keys', '.', 'the', 'function', 'should', 'just', 'print', 'the', 'values', 'only', '.']\n",
            "['write', 'a', 'function', 'to', 'return', 'the', 'type', 'roots', 'of', 'a', 'quadratic', 'equation', 'ax**2', '+', 'bx', '+', 'c', '=', '0']\n",
            "['write', 'a', 'function', 'to', 'return', 'the', 'volume', 'of', 'a', 'cuboid']\n",
            "['71', 'write', 'a', 'program', 'to', 'add', '2', 'binary', 'numbers']\n",
            "['1', 'write', 'a', 'python', 'function', 'to', 'add', 'to', 'add', 'two', 'numbers']\n",
            "['write', 'a', 'function', 'to', 'identify', 'if', 'value', 'is', 'present', 'inside', 'a', 'list', 'or', 'not']\n",
            "['write', 'a', 'function', 'to', 'return', 'the', 'area', 'of', 'a', 'rhombus']\n",
            "['98', 'write', 'a', 'program', 'to', 'reverse', 'a', 'string', 'that', 'contains', 'digits', 'in', 'python']\n",
            "['write', 'a', 'program', 'to', 'expand', 'and', 'print', 'a', 'string', 'like', '\"', 'a', '-', 'z', '\"', ' ', 'example', ':', 'enter', 'first', 'string', ':', 'b', '  ', 'enter', 'last', 'string', ':', 'e', ' ', 'output', ':', 'bcde']\n",
            "['write', 'a', 'python', 'program', 'to', 'check', 'if', 'a', 'number', 'is', 'an', 'armstrong', 'number']\n",
            "['93', 'write', 'a', 'python', 'function', 'to', 'find', 'one', \"'s\", 'compliment', 'of', 'a', 'number']\n",
            "['write', 'a', ' ', 'program', 'to', 'split', 'strings', 'using', 'split', 'function', '.']\n",
            "['write', 'a', 'function', 'to', 'return', 'the', 'area', 'of', 'a', 'equilateral', 'triangle']\n",
            "['14', 'how', 'to', 'add', 'element', 'at', 'first', 'position', 'in', 'array', 'python']\n",
            "['write', 'a', 'python', 'function', 'to', 'find', 'the', 'area', 'of', 'the', 'triangle', 'inscribed', 'within', 'the', 'rectangle', 'which', 'in', 'turn', 'is', 'inscribed', 'in', 'an', 'ellipse']\n",
            "['write', 'a', 'function', 'to', 'calculate', 'the', 'temprature', 't', 'of', 'ideal', 'gas', 'based', 'on', 'ideal', 'gas', 'equation', 'pressure', 'p', 'and', 'volume', 'v', 'given']\n",
            "['write', 'a', 'program', 'to', 'print', 'the', 'powers', 'of', '2', 'using', 'anonymous', 'function']\n",
            "['write', 'a', 'python', 'function', 'to', 'reverse', 'a', 'string', 'if', 'it', \"'s\", 'length', 'is', 'a', 'multiple', 'of', '4', '.']\n",
            "['write', 'a', 'program', 'to', 'print', 'all', 'the', 'even', 'numbers', 'in', 'a', 'range']\n",
            "['write', 'a', 'python', 'program', 'to', 'print', 'the', 'command', 'line', 'arguements', 'given', 'to', 'a', 'file']\n",
            "['43', 'write', 'a', 'program', 'to', 'convert', 'kilometers', 'to', 'miles']\n",
            "['write', 'a', 'python', 'function', 'to', 'find', 'the', 'sum', 'of', 'two', 'numbers', 'without', 'using', 'arithematic', 'operators']\n",
            "['write', 'a', 'program', 'to', 'find', 'and', 'print', 'the', 'remainder', 'of', 'two', 'number']\n",
            "['write', 'a', 'function', 'to', 'append', 'two', 'lists']\n",
            "['write', 'a', 'python', 'program', 'to', 'subtract', 'a', 'week', '(', '7', 'days', ')', 'from', 'a', 'given', 'date', 'in', 'python']\n",
            "['write', 'a', 'python', 'function', 'to', 'convert', 'hours', 'to', 'minutes']\n",
            "['write', 'a', 'python', 'function', 'to', 'find', 'the', 'sum', 'of', 'n', 'pronic', 'numbers']\n",
            "['write', 'a', 'python', 'program', 'to', 'print', 'out', 'the', 'number', 'of', 'cpus', 'working', 'behind', 'the', 'scenes', 'using', 'multiprocessing', 'library']\n",
            "['write', 'a', 'python', 'function', 'to', 'clear', 'a', 'set', '.']\n",
            "['write', 'a', 'python', 'function', 'to', 'find', 'the', 'power', 'of', 'a', 'number', 'using', 'recursion']\n",
            "['write', 'a', 'function', 'to', 'right', 'rotate', 'a', 'given', 'list', 'by', 'given', 'input']\n",
            "['write', 'a', 'python', 'program', 'to', 'calculate', 'volume', 'of', 'torus']\n",
            "['write', 'a', 'program', 'to', 'find', 'cosine', 'of', 'a', 'number']\n",
            "['write', 'a', 'python', 'function', 'to', 'find', 'the', 'area', 'of', 'a', 'circle', ',', 'whose', 'radius', 'is', 'given']\n",
            "['42', 'function', 'to', 'print', 'the', 'india', 'time']\n",
            "['please', 'write', 'a', 'function', 'to', 'compute', 'the', 'fibonacci', 'sequence', 'until', 'a', 'given', 'number', 'via', 'input', 'paramters', '.']\n",
            "['write', 'a', 'python', 'program', 'that', 'would', 'print', '\"', 'hello', 'world', '\"']\n",
            "['write', 'a', 'function', 'to', 'return', 'the', 'lateral', 'surface', 'area', 'of', 'a', 'cylinder']\n",
            "['write', 'a', 'python', 'function', 'to', 'load', 'pickle', 'data', 'from', 'a', 'file']\n",
            "['92', 'write', 'a', 'program', 'to', 'print', 'the', 'version', 'information']\n",
            "['write', 'python', 'program', 'that', 'would', 'merge', 'two', 'dictionaries', 'by', 'adding', 'the', 'second', 'one', 'into', 'the', 'first']\n",
            "['write', 'a', 'python', 'function', 'to', 'return', 'mean', 'of', 'a', 'list', 'of', 'numbers']\n",
            "['write', 'a', 'program', 'for', 'round', 'for', 'integers']\n",
            "['write', 'a', 'python', 'function', 'that', 'counts', 'the', 'number', 'of', 'blank', 'spaces', 'in', 'a', 'text', 'file']\n",
            "['write', 'python', 'program', 'to', 'print', 'if', 'a', 'number', 'is', 'odd', 'or', 'even']\n",
            "['write', 'a', 'python', 'program', 'to', 'count', 'the', 'number', 'of', 'lines', 'in', 'a', 'text', 'file']\n",
            "['5', 'add', 'a', 'third', 'dimension', 'matrix', 'dataset', 'python']\n",
            "['write', 'a', 'python', 'program', 'to', 'remove', 'words', 'less', 'than', 'a', 'specified', 'length', 'from', 'a', 'sentence']\n",
            "['write', 'a', 'python', 'function', 'to', 'count', \"'\", 'a', \"'s\", 'in', 'the', 'repetition', 'of', 'a', 'given', 'string', \"'\", 'n', \"'\", 'times', '.']\n",
            "['76', 'write', 'a', 'program', 'to', 'print', 'the', 'list', 'after', 'removing', 'delete', 'even', 'numbers', 'in', '[', '5,6,77,45,22,12,24', ']', '.']\n",
            "['write', 'a', 'python', 'program', 'to', 'print', 'the', 'ascii', 'value', 'of', 'a', 'string']\n",
            "['32', '.', 'write', 'a', 'python', 'program', 'to', 'find', 'hcf', 'or', 'gcd', 'using', 'euclidian', 'algorithm']\n",
            "['write', 'a', 'program', 'to', 'check', 'whether', 'a', 'file', '/', 'path', '/', 'direcory', 'exists', 'or', 'not']\n",
            "['49', 'write', 'a', 'generator', 'that', 'returns', 'true', '/', 'false', 'randomly']\n",
            "['write', 'a', 'function', 'to', 'calculate', 'the', 'total', 'resistance', 'of', 'resistances', 'in', 'parallel', 'in', 'a', 'given', 'list']\n",
            "['write', 'a', 'program', 'creating', 'an', 'empty', 'dictionary']\n",
            "['write', 'a', 'python', 'program', 'to', 'reverse', 'a', 'list', 'and', 'print', 'it', '.']\n",
            "['write', 'a', 'python', 'function', 'to', 'create', 'the', 'html', 'string', 'with', 'tags', 'around', 'the', 'word(s', ')', '.']\n",
            "['87', 'write', 'a', 'function', 'which', 'accepts', 'a', 'string', 'prints', 'the', 'characters', 'that', 'have', 'even', 'indexes', '.']\n",
            "['write', 'a', 'python', 'function', 'to', 'get', 'the', 'volume', 'of', 'a', 'rectangular', 'prism', 'with', 'side', 'as', 'length', ',', 'width', 'and', 'height', 'as', 'input']\n",
            "['write', 'a', 'function', 'to', 'calculate', 'the', 'sum', 'of', 'digits', 'of', 'a', 'number']\n",
            "['write', 'a', 'function', 'that', 'returns', 'a', 'replace', 'values', 'in', 'string', 'with', 'values', 'provided']\n",
            "['82', 'with', 'two', 'given', 'lists', '[', '1,3,6,78,35,55', ']', 'and', '[', '12,24,35,24,88,120,155', ']', ',', 'write', 'a', 'program', 'to', 'make', 'a', 'list', 'whose', 'elements', 'are', 'intersection', 'of', 'the', 'above', 'given', 'lists', '.']\n",
            "['write', 'a', 'python', 'function', 'for', 'bitwise', 'division', 'with', 'given', 'number', 'of', 'shifts']\n",
            "['write', 'a', 'python', 'function', 'that', 'returns', 'true', 'if', 'a', 'string', 'is', 'empty', 'and', 'false', 'otherwise', '.']\n",
            "['an', 'infinite', 'loop', 'to', 'generate', 'squares']\n",
            "['write', 'a', 'python', 'function', 'which', 'takes', 'length', 'of', 'sides', 'as', 'user', 'input', 'to', 'calculate', 'and', 'return', 'the', 'area', 'of', 'a', 'triangle']\n",
            "['write', 'a', 'python', 'program', 'to', 'print', 'the', 'number', 'of', 'times', 'a', 'particular', 'number', 'occurs', 'in', 'a', 'list']\n",
            "['write', 'a', 'python', 'program', 'to', 'split', 'the', 'string', 'into', 'chunks', 'of', 'size', '3']\n",
            "['write', 'a', 'function', 'that', 'returns', 'sum', 'of', 'all', 'odd', 'elements', 'in', 'the', 'list']\n",
            "['write', 'a', 'python', 'program', 'to', 'swap', 'tuple', 'elements', 'in', 'list', 'of', 'tuples', '.', 'print', 'the', 'output', '.']\n",
            "['write', 'a', 'program', 'to', 'print', '5', 'odd', 'random', 'numbers', 'between', '100', 'and', '200']\n",
            "['22', 'write', 'a', 'python', 'program', 'to', 'concatenate', 'all', 'elements', 'of', 'a', 'list', 'into', 'a', 'string', 'and', 'print', 'it']\n",
            "['6', '.', 'python', 'relu', 'function']\n",
            "['please', 'write', 'a', 'program', 'to', 'shuffle', 'and', 'print', 'the', 'list', '[', '3,6,7,8', ']', '.']\n",
            "['write', 'a', 'method', 'which', 'can', 'calculate', 'square', 'value', 'of', 'number']\n",
            "['write', 'a', 'python', 'program', 'to', 'check', '/', 'test', 'multiple', 'variables', 'against', 'a', 'value']\n",
            "['write', 'a', 'python', 'program', 'to', 'make', 'use', 'of', 'maps']\n",
            "['write', 'a', 'list', 'comprehension', 'for', 'printing', 'rows', 'into', 'columns', 'and', 'vv']\n",
            "['write', 'a', 'python', 'program', 'to', 'check', 'string', 'istitle']\n",
            "['write', 'a', 'python', 'function', 'that', 'calculate', 'side', 'length', 'of', 'a', 'equilateral', 'polygon']\n",
            "['write', 'a', 'python', 'function', 'to', 'generate', 'random', 'number', 'between', '2', 'integers']\n",
            "['write', 'a', 'python', 'program', 'to', 'print', 'system', 'time']\n",
            "['write', 'a', 'python', 'program', 'to', 'swap', 'two', 'numbers']\n",
            "['85', 'write', 'a', 'python', 'program', 'that', 'iterate', 'over', 'elements', 'repeating', 'each', 'as', 'many', 'times', 'as', 'its', 'count', '.']\n",
            "['3', '.', 'python', 'function', 'to', 'return', 'the', 'squares', 'of', 'a', 'list', 'of', 'numbers']\n",
            "['write', 'a', 'function', 'to', 'calculate', 'volume', 'of', 'pentagonal', 'pyramid']\n",
            "['write', 'a', 'python', 'function', 'to', 'return', 'stella', 'octangula', 'numbers', '  ', 'stella', 'octangula', 'numbers', ':', 'n', '(', '2n2', '−', '1', ')', ',', 'with', 'n', '≥', '0', '.']\n",
            "['write', 'a', 'function', 'to', 'calculate', 'the', 'focal', 'length', 'of', 'a', 'lense', 'buy', 'the', 'distance', 'of', 'object', 'and', 'distance', 'of', 'image', 'from', 'lense']\n",
            "['96', 'write', 'a', 'python', 'program', 'to', 'convert', ' ', 'list', 'of', 'tuples', 'into', 'digits', 'and', 'print', 'it']\n",
            "['write', 'a', 'python', 'program', 'to', 'print', 'a', 'dictionary', 'where', 'the', 'keys', 'are', 'numbers', 'between', '1', 'and', '10', '(', 'both', 'included', ')', 'and', 'the', 'values', 'are', 'square', 'of', 'keys', '.']\n",
            "['write', 'a', 'python', 'program', 'to', 'input', 'a', 'number', 'n', 'and', 'print', 'an', 'inverted', 'star', 'pattern', 'of', 'the', 'desired', 'size', '.']\n",
            "['43', 'write', 'a', 'to', 'time', 'a', 'python', 'script']\n",
            "['3', 'write', 'a', 'python', 'program', 'to', 'convert', 'a', 'string', 'to', 'a', 'char', 'array']\n",
            "['write', 'a', 'function', 'to', 'return', 'the', 'lateral', 'surface', 'area', 'of', 'a', 'cylinder']\n",
            "['write', 'a', 'function', 'to', 'return', 'the', 'circumference', 'of', 'a', 'circle']\n",
            "['58', 'write', 'a', 'python', 'function', 'to', 'find', 'the', 'single', 'element', 'in', 'a', 'list', 'where', 'every', 'element', 'appears', 'three', 'times', 'except', 'for', 'one', '.']\n",
            "['write', 'a', 'python', 'function', 'that', 'accepts', 'a', 'dictionary', 'that', 'has', 'unique', 'values', 'and', 'returns', 'its', 'inversion']\n",
            "['7', 'add', 'a', 'value', 'to', 'the', 'start', 'of', 'a', 'list', 'python']\n",
            "['write', 'a', 'python', 'program', 'to', 'print', 'the', 'ascii', 'value', 'of', 'input', 'character']\n",
            "['write', 'a', 'function', 'to', 'merge', 'two', 'sorted', 'lists']\n",
            "['8', '.', 'python', 'program', 'to', 'convert', 'kilometers', 'to', 'miles']\n",
            "['write', 'a', 'python', 'function', 'to', 'convert', 'a', 'given', 'string', 'into', 'a', 'list', 'of', 'words', '.']\n",
            "['convert', 'generator', 'to', 'a', 'list']\n",
            "['write', 'a', 'python', 'program', 'to', 'print', 'two', 'sets', 'differences', 'using', 'operations', 'like', 'in', 'mathematic']\n",
            "['write', 'a', 'program', 'to', 'print', 'number', 'of', 'words', 'in', 'a', 'string']\n",
            "['write', 'a', 'python', 'function', 'to', 'return', 'dictionary', 'of', 'two', 'lists', 'using', 'zip']\n",
            "['30', 'program', 'to', 'count', 'number', 'of', 'cpu', 'cores', 'available']\n",
            "['write', 'a', 'python', 'program', 'to', 'count', 'number', 'of', 'lowercase', 'characters', 'in', 'a', 'string', 'and', 'print', 'the', 'result']\n",
            "['write', 'a', 'function', 'that', 'acts', 'like', 'a', 'relu', 'function', 'for', 'a', '1d', 'array']\n",
            "['write', 'a', 'function', 'to', 'rotate', 'string', 'right', 'by', 'a', 'given', 'length']\n",
            "['write', 'a', 'python', 'function', 'that', 'would', 'return', 'the', 'sum', 'of', 'first', 'n', 'natural', 'numbers', ',', 'where', 'n', 'is', 'the', 'input']\n",
            "['write', 'a', 'python', 'program', 'to', 'find', 'the', 'sum', 'and', 'average', 'of', 'the', 'list', '.', 'print', 'the', 'sum', 'and', 'average']\n",
            "['write', 'a', 'python', 'program', 'to', 'detect', 'if', 'two', 'strings', 'are', 'anagrams']\n",
            "['write', 'a', 'python', 'function', 'to', 'find', 'area', 'of', 'rectangle']\n",
            "['write', 'a', 'python', 'program', 'that', 'iterates', 'over', 'a', 'dictionary', 'and', 'prints', 'its', 'keys', 'and', 'values']\n",
            "['29', 'write', 'a', 'python', ' ', 'program', 'to', 'extract', 'string', 'till', 'first', 'non', '-', 'alphanumeric', 'character', 'and', 'print', 'it']\n",
            "['2', 'write', 'a', 'program', 'to', 'get', 'numbers', '=', '1,3,11,42,12,4001']\n",
            "['write', 'a', 'python', 'program', 'to', 'print', 'the', 'sum', 'of', 'first', 'n', 'numbers']\n",
            "['write', 'a', 'pythno', 'function', 'to', 'print', 'the', 'length', 'of', 'a', 'given', 'tuple']\n",
            "['24', '.', 'python', 'program', 'for', 'the', 'sum', 'of', 'first', 'n', 'numbers', '.']\n",
            "['write', 'python', 'function', 'to', 'count', 'number', 'of', '1s', 'in', 'binary', 'representation', 'of', 'an', 'integer', '.']\n",
            "['write', 'a', 'python', 'function', 'to', 'remove', 'duplicate', 'items', 'from', 'the', 'list']\n",
            "['write', 'a', 'python', 'function', 'to', 'return', 'syslvester', \"'s\", 'sequence', '  ', 'a(n', ')', '=', 'a(n-1)**2', '+', 'a(n-1', ')', '+', '1']\n",
            "['write', 'a', 'python', 'program', 'to', 'find', 'a', 'string', 'in', 'a', 'given', 'phrase']\n",
            "['write', 'a', 'program', 'to', 'binary', 'right', 'shift', 'a', 'number']\n",
            "['write', 'a', 'python', 'program', 'that', 'would', 'print', '\"', 'hello', 'world', '\"']\n",
            "['write', 'a', 'python', 'program', 'that', 'would', 'swap', 'variable', 'values']\n",
            "['19', 'capitalize', 'first', 'letter', 'in', 'python', 'in', 'list']\n",
            "['18', '.', 'python', 'program', 'to', 'compare', 'strings']\n",
            "['write', 'a', 'python', 'program', 'to', 'calculate', 'and', 'print', 'square', 'root', 'of', 'numbers', '0', 'to', '100']\n",
            "['write', 'a', 'program', 'creating', 'a', 'dictionary', ' ', 'with', 'integer', 'keys']\n",
            "['9', 'write', 'a', 'python', 'function', 'to', 'update', 'a', 'dictionary', 'with', 'a', 'new', 'key', ',', 'value', 'pair']\n",
            "['write', 'a', 'python', 'program', 'to', 'remove', 'the', 'characters', 'of', 'odd', 'index', 'values', 'in', 'a', 'string']\n",
            "['write', 'a', 'python', 'program', 'to', 'swap', 'cases', 'in', 'a', 'string', 'and', 'print', '.', 'in', 'other', 'words', ',', 'convert', 'all', 'lowercase', 'letters', 'to', 'uppercase', 'letters', 'and', 'vice', 'versa', 'and', 'print', 'the', 'result', ' ', 'example', ':', 'input', ':', 'indiaaa', ' ', 'output', ':', 'indiaaa']\n",
            "['write', 'a', 'python', 'function', 'to', 'pickle', 'data', 'to', 'a', 'file']\n",
            "['58', 'function', 'to', 'show', 'boolean', 'true', '/', 'false', 'is', 'a', 'number']\n",
            "['python', 'program', 'to', 'check', 'if', 'a', 'number', 'is', 'odd', 'or', 'even']\n",
            "['write', 'a', 'python', 'program', 'to', 'print', 'the', 'datatype', 'of', 'a', 'variable']\n",
            "['write', 'a', 'python', 'function', 'to', 'convert', 'a', 'user', 'provided', 'string', 'to', 'camelcase']\n",
            "['write', 'a', 'program', 'which', 'can', 'filter', 'even', 'numbers', 'in', 'a', 'list', 'by', 'using', 'filter', 'function', '.', 'the', 'list', 'is', ':', '[', '1,2,3,4,5,6,7,8,9,10', ']', '.']\n",
            "['write', 'a', 'python', 'program', 'to', 'print', 'the', 'items', 'in', 'a', 'list', 'apart', 'from', 'the', 'first', '4']\n",
            "['79', 'write', 'a', 'program', 'to', 'add', 'an', 'element', 'at', 'specified', 'index', 'in', 'a', 'list']\n",
            "['21', 'write', 'a', 'function', 'to', 'check', 'if', 'string', 'is', 'camelcase', 'pythonpython', 'by', 'breakable', 'buffalo', 'on', 'aug', '09', '2020', 'donate']\n",
            "['write', 'a', 'python', 'program', 'to', 'extract', 'the', 'file', 'name', 'and', 'extension', 'of', 'a', 'file']\n",
            "['python', 'program', 'to', 'add', 'two', 'objects', 'if', 'both', 'objects', 'are', 'of', 'type', 'integer']\n",
            "['write', 'a', 'python', 'function', 'to', 'print', 'the', 'binary', 'value', 'of', 'a', 'decimal', 'number']\n",
            "['write', 'a', 'python', 'program', 'to', 'sum', 'all', 'the', 'items', 'in', 'a', 'dictionary', 'and', 'print', 'the', 'result']\n",
            "['write', 'a', 'python', 'function', 'to', 'capitalize', 'first', 'letter', 'of', 'a', 'string']\n",
            "['50', 'write', 'a', 'python', 'program', 'to', 'normalize', 'an', 'array', 'such', 'that', 'it', 'sums', 'upto', '1']\n",
            "['write', 'a', 'python', 'function', 'that', 'takes', 'an', 'integer', 'as', 'input', 'and', 'returns', 'the', 'factorial', 'of', 'that', 'number']\n",
            "['write', 'a', 'program', 'that', 'accepts', 'sequence', 'of', 'lines', 'as', 'input', 'and', 'prints', 'the', 'lines', 'after', 'making', 'all', 'characters', 'in', 'the', 'sentence', 'capitalized', '.']\n",
            "['define', 'a', 'function', 'which', 'can', 'generate', 'a', 'list', 'where', 'the', 'values', 'are', 'square', 'of', 'numbers', 'between', '1', 'and', '20', '(', 'both', 'included', ')', '.', 'then', 'the', 'function', 'needs', 'to', 'print', 'the', 'first', '5', 'elements', 'in', 'the', 'list', '.']\n",
            "['write', 'a', 'python', 'function', 'to', 'convert', 'gray', 'code', 'to', 'binary']\n",
            "['write', 'a', 'python', 'program', 'to', 'print', 'negative', 'numbers', 'in', 'a', 'list']\n",
            "['write', 'a', 'function', 'to', 'return', 'the', 'angualr', 'veolcity', 'based', 'on', 'augualr', 'distance', 'travelled', 'in', 'radian', 'unit', 'and', 'time', 'taken']\n",
            "['write', 'a', 'function', 'to', 'remove', 'i', '-', 'th', 'indexed', 'character', 'in', 'a', 'given', 'string']\n",
            "['write', 'a', 'function', 'to', 'return', 'the', 'cartisian', 'distance', 'of', 'a', 'point', 'from', 'origin']\n",
            "['write', 'a', 'function', 'to', 'return', 'the', 'volume', 'of', 'a', 'sphere']\n",
            "['write', 'a', 'function', 'to', 'return', 'the', 'square', 'of', 'first', 'n', 'numbers']\n",
            "['3', '.', 'python', 'function', 'to', 'return', 'the', 'squareroot', 'of', 'a', 'list', 'of', 'numbers']\n",
            "['write', 'a', 'python', 'program', 'to', 'perform', 'multiple', 'assignments']\n",
            "['write', 'a', 'program', 'to', 'print', '5', 'even', 'random', 'numbers', 'between', '10', 'and', '100']\n",
            "['write', 'a', 'program', 'to', 'convert', 'date', 'to', 'timestamp', 'and', 'print', 'the', 'result']\n",
            "['write', 'a', 'function', 'to', 'calculate', 'the', 'kinetic', 'energy', 'of', 'an', 'object', 'of', 'mass', 'm', 'and', 'velocity', 'v']\n",
            "['write', 'a', 'python', 'function', 'to', 'determine', 'if', 'a', 'year', 'is', 'leap', 'year', 'or', 'not']\n",
            "['8', 'print', 'into', 'lowersase', 'an', 'uppercase', 'sentence', 'in', 'python']\n",
            "['25', '.', 'python', 'program', 'to', 'convert', 'decimal', 'to', 'binary']\n",
            "['59', 'write', 'a', 'function', 'program', 'to', 'add', 'the', 'digits', 'of', 'a', 'positive', 'integer', 'repeatedly', 'until', 'the', 'result', 'has', 'a', 'single', 'digit', '.']\n",
            "['write', 'a', 'function', 'to', 'calculate', 'the', 'displacement', 'of', 'an', 'object', 'with', 'initial', 'velocity', 'u', ',', 'time', 't', 'and', 'acceleration', 'a']\n",
            "['write', 'a', 'python', 'function', 'to', 'combine', 'three', 'lists', 'of', 'equal', 'lengths', 'into', 'a', 'nested', 'dictionary', 'and', 'return', 'it']\n",
            "['write', 'a', ' ', 'python', 'program', 'to', 'print', 'the', 'last', 'element', 'of', 'a', 'list']\n",
            "['write', 'a', 'python', 'function', 'that', 'returns', 'the', 'integer', 'obtained', 'by', 'reversing', 'the', 'digits', 'of', 'the', 'given', 'integer']\n",
            "['write', 'python', 'function', 'to', 'count', 'the', 'frequency', 'of', 'words', 'appearing', 'in', 'a', 'string', 'using', 'a', 'dictionary']\n",
            "['write', 'a', 'python', 'program', 'to', 'merge', 'two', 'sorted', 'lists']\n",
            "['write', 'a', 'python', 'function', 'to', 'return', 'random', 'selection', 'from', 'itertools.permutations(iterable', ',', 'r', ')']\n",
            "['write', 'a', 'python', 'function', 'that', 'given', 'a', 'string', 'and', 'an', 'integer', 'number', 'n', ',', 'remove', 'characters', 'from', 'a', 'string', 'starting', 'from', 'zero', 'up', 'to', 'n', 'and', 'return', 'a', 'new', 'string']\n",
            "['write', 'a', 'python', 'function', 'to', 'return', 'an', 'iterator', 'over', 'the', 'last', 'n', 'items']\n",
            "['6', '.', 'write', 'a', 'program', 'to', 'strips', 'every', 'vowel', 'from', 'a', 'string', 'provided']\n",
            "['write', 'a', 'function', 'to', 'return', 'the', 'volume', 'of', 'a', 'cylinder']\n",
            "['write', 'a', 'function', 'that', 'will', 'provide', 'the', 'ascii', 'value', 'of', 'a', 'character']\n",
            "['please', 'write', 'a', 'program', 'to', 'print', 'the', 'running', 'time', 'of', 'execution', 'of', '\"', '1', '+', '1', '\"', 'for', '100', 'times', '.']\n",
            "['73', 'write', 'a', 'python', 'function', 'to', 'find', 'the', 'difference', 'between', 'the', 'sum', 'of', 'the', 'squares', 'of', 'the', 'first', 'two', 'hundred', 'natural', 'numbers', 'and', 'the', 'square', 'of', 'the', 'sum', '.']\n",
            "['write', 'a', 'program', 'to', 'to', 'check', 'if', 'a', 'triangle', 'is', 'valid', 'or', 'not', ',', 'given', 'it', \"'s\", 'all', 'three', 'angles']\n",
            "['write', 'a', 'python', 'program', 'to', 'return', 'dict', 'with', '{', 'student', ':', 'highest', 'score', '}', 'using', 'map+lambda']\n",
            "['write', 'a', 'python', 'program', 'which', 'accepts', 'users', 'first', 'name', 'and', 'last', 'name', 'and', 'print', 'in', 'reverse', 'order', 'with', 'a', 'space']\n",
            "['78', 'write', 'a', 'python', 'function', 'to', 'find', 'the', 'greatest', 'common', 'divisor', '(', 'gcd', ')', 'of', 'two', 'integers', '.']\n",
            "['write', 'a', 'python', 'function', 'to', 'return', 'the', 'factorial', 'of', 'a', 'number']\n",
            "['write', 'a', 'function', 'to', 'check', 'if', 'a', 'string', 'is', 'a', 'palindrome', 'or', 'not']\n",
            "['write', 'a', 'python', 'function', 'to', 'map', 'multiple', 'lists', 'using', 'zip']\n",
            "['write', 'a', 'python', 'program', 'to', 'print', 'positive', 'numbers', 'in', 'a', 'list']\n",
            "['write', 'a', 'python', 'program', 'to', 'get', 'indexes', 'for', 'each', 'element', 'in', 'a', 'list', 'using', 'enumerate']\n",
            "['write', 'a', 'python', 'function', 'to', 'return', 'the', 'cube', 'of', 'a', 'number']\n",
            "['write', 'a', 'python', 'program', 'to', 'subtract', 'five', 'days', 'from', 'current', 'date']\n",
            "['write', 'a', 'function', 'that', 'returns', 'relu', 'value', 'of', 'the', 'input']\n",
            "['write', 'a', 'python', 'function', 'that', 'returns', 'true', 'if', 'the', 'sum', 'of', 'two', 'provided', 'numbers', 'is', 'even']\n",
            "['write', 'a', 'function', 'to', 'calculate', 'the', 'volume', 'v', 'of', 'ideal', 'gas', 'based', 'on', 'ideal', 'gas', 'equation', 'pressure', 'p', 'and', 'tempreature', 't', 'given']\n",
            "['write', 'a', 'python', 'function', 'to', 'calculate', 'weighted', 'average', 'of', 'two', 'or', 'more', 'numbers']\n",
            "['write', 'a', 'python', 'function', 'that', 'takes', 'in', 'a', 'list', 'and', 'returns', 'a', 'list', 'containing', 'the', 'squares', 'of', 'the', 'elements', 'of', 'the', 'input', 'list']\n",
            "['write', 'a', 'program', 'to', 'print', 'length', 'of', 'a', 'string']\n",
            "['write', 'a', 'python', 'function', 'to', 'find', 'the', 'area', 'of', 'icosahedron']\n",
            "['write', 'a', 'python', 'program', 'to', 'add', 'title', 'to', 'string']\n",
            "['write', 'a', 'function', 'to', 'return', 'the', 'volume', 'of', 'a', 'sphere']\n",
            "['write', 'a', 'python', 'program', 'that', 'prints', 'every', 'third', 'character', 'in', 'a', 'sentence']\n",
            "['write', 'a', 'python', 'program', 'to', 'print', 'the', 'reverse', 'a', 'given', 'number']\n",
            "['30', 'write', 'a', 'program', 'to', 'check', 'whether', 'the', 'string', 'is', 'a', 'palindrome', 'or', 'not']\n",
            "['write', 'a', 'function', 'to', 'calculate', 'the', 'velocity', 'of', 'an', 'object', 'with', 'initial', 'velocity', 'u', ',', 'time', 't', 'and', 'acceleration', 'a']\n",
            "['write', 'a', 'python', 'function', 'to', 'add', 'two', 'user', 'provided', 'numbers', 'and', 'return', 'the', 'sum']\n",
            "['write', 'a', 'python', 'program', 'for', 'adding', 'two', 'binary', 'numbers']\n",
            "['write', 'a', 'python', 'program', 'to', 'program', 'to', 'compute', '1/2', '+', '2/3', '+', '3/4+', '...', '+n', '/', 'n+1', 'with', 'a', 'given', 'n', 'input', 'by', 'console', '(', 'n>0', ')', '.']\n",
            "['write', 'a', 'python', 'function', 'to', 'return', 'the', 'largest', 'value', 'in', 'a', 'dictionary']\n",
            "['77', 'write', 'a', 'python', 'function', 'to', 'calculate', 'the', 'geometric', 'sum', 'of', 'n-1', '.']\n",
            "['write', 'a', 'python', 'function', 'that', 'returns', 'true', 'if', 'the', 'product', 'of', 'two', 'provided', 'numbers', 'is', 'even']\n",
            "['write', 'a', 'python', 'program', 'to', 'find', 'length', 'of', 'list', 'using', 'recursion']\n",
            "['24', 'how', 'to', 'convert', 'fahrenheit', 'to', 'celsius', 'in', 'python']\n",
            "['17', 'split', 'list', 'into', 'lists', 'of', 'equal', 'length', 'python']\n",
            "['write', 'a', 'program', 'to', 'return', 'the', 'absolute', 'value']\n",
            "['write', 'a', 'python', 'program', 'to', 'find', 'the', 'intersection', 'of', 'two', 'lists']\n",
            "['write', 'python', 'function', 'to', 'find', 'the', 'length', 'of', 'the', 'longest', 'one', 'element', 'in', 'the', 'list']\n",
            "['11', 'print', 'how', 'many', 'keys', 'are', 'in', 'a', 'dictionary', 'python']\n",
            "['3', '.', 'write', 'a', 'python', 'program', 'to', 'calculate', 'the', 'square', 'root']\n",
            "['write', 'a', 'python', 'program', 'to', 'print', 'quotient', 'and', 'remainder', 'of', 'two', 'numbers']\n",
            "['write', 'a', 'function', 'to', 'return', 'the', 'perimeter', 'of', 'a', 'isoscales', 'triangle']\n",
            "['write', 'a', 'python', 'function', 'to', 'find', 'leftmost', 'value', 'greater', 'than', 'x']\n",
            "['write', 'a', 'program', 'which', 'accepts', 'a', 'sequence', 'of', 'words', 'separated', 'by', 'whitespace', 'as', 'input', 'to', 'print', 'the', 'words', 'composed', 'of', 'digits', 'only', '.']\n",
            "['write', 'a', 'python', 'function', 'to', 'add', 'all', 'even', 'numbers', 'between', 'minimum', 'and', 'maximum', 'value']\n",
            "['write', 'a', ' ', 'program', 'to', 'get', 'th', 'ematched', 'elemnets', 'from', 'two', 'list']\n",
            "['write', 'a', 'python', 'program', 'to', 'do', 'lstrip', 'on', 'string']\n",
            "['write', 'a', 'python', 'function', 'to', 'get', 'the', 'volume', 'of', 'a', 'cube', 'with', 'side', 'as', 'input']\n",
            "['91', 'write', 'a', 'python', 'function', 'to', 'round', 'up', 'a', 'given', 'decimal', 'number']\n",
            "['the', 'need', 'by', 'converting', 'them', 'to', 'string']\n",
            "['write', 'a', 'function', 'to', 'return', 'the', 'torque', 'when', 'a', 'force', 'f', 'is', 'applied', 'at', 'angle', 'thea', 'and', 'distance', 'for', 'axis', 'of', 'rotation', 'to', 'place', 'force', 'applied', 'is', 'r']\n",
            "['36', 'write', 'a', ' ', 'python', 'function', 'that', 'returns', 'the', 'highest', 'common', 'factor', 'of', 'two', 'given', 'numbers']\n",
            "['write', 'a', 'python', 'program', 'to', 'print', 'the', 'words', 'in', 'a', 'sentence', 'in', 'reverse', 'order']\n",
            "['write', 'a', 'program', 'to', 'to', 'print', 'the', 'contents', 'of', 'a', 'given', 'file']\n",
            "['write', 'a', 'python', 'program', 'that', 'removes', 'all', 'blank', 'spaces', 'in', 'a', 'sentence', 'and', 'prints', 'it']\n",
            "['write', 'a', 'program', 'to', 'merge', 'two', 'lists', 'into', 'a', 'dictionary']\n",
            "['write', 'a', 'python', 'function', 'to', 'find', 'linear', 'interpolation', 'between', 'two', 'points', 'x', 'and', 'y', 'given', 'a', 'variable', 't']\n",
            "['51', 'write', 'a', 'python', 'function', 'to', 'find', 'a', 'missing', 'number', 'in', 'a', 'list', 'of', 'consecutive', 'natural', 'numbers']\n",
            "['write', 'a', 'python', 'function', 'to', 'print', 'the', 'hexadecimal', 'value', 'of', 'a', 'decimal', 'number']\n",
            "['96', 'write', 'a', 'python', 'function', 'that', 'takes', 'a', 'number', 'and', 'returns', 'an', 'array', 'of', 'the', 'number', 'duplicated', 'n', 'times']\n",
            "['write', 'a', 'python', 'function', 'to', 'read', 'first', 'n', 'lines', 'from', 'a', 'file']\n",
            "['write', 'a', 'python', 'function', 'to', 'find', 'the', 'square', 'root', 'of', 'a', 'number', 'using', 'babylonian', 'method']\n",
            "['write', 'a', 'function', 'to', 'convert', 'tuple', 'to', 'list']\n",
            "['write', 'a', 'program', 'to', 'randomly', 'generate', 'a', 'list', 'with', '5', 'numbers', ',', 'which', 'are', 'divisible', 'by', '5', 'and', '7', ',', 'between', '1', 'and', '1000', 'inclusive', '.']\n",
            "['write', 'a', 'python', 'program', 'to', 'turn', 'every', 'item', 'of', 'a', 'list', 'into', 'its', 'square', '.']\n",
            "['write', 'a', 'python', 'function', 'to', 'return', 'count', 'of', 'number', 'of', 'vowels', 'in', 'a', 'sentence']\n",
            "['write', 'a', 'python', 'function', 'to', 'return', 'first', 'n', 'items', 'of', 'the', 'iterable', 'as', 'a', 'list']\n",
            "['write', 'a', 'python', 'function', 'to', 'find', 'the', 'union', 'of', 'two', 'arrays']\n",
            "['write', 'a', 'python', 'function', 'to', 'print', 'the', 'octal', 'value', 'of', 'a', 'decimal', 'number']\n",
            "['write', 'a', 'python', 'function', 'to', 'return', 'sum', 'of', 'the', 'powers', 'between', 'two', 'numbers']\n",
            "['write', 'a', 'function', 'to', 'return', 'the', 'mean', 'of', 'numbers', 'in', 'a', 'list']\n",
            "['write', 'a', 'function', 'to', 'calculate', 'the', 'velocity', 'of', 'an', 'object', 'with', 'initial', 'velocity', 'u', ',', 'time', 't', 'and', 'acceleration', 'a']\n",
            "['53', 'write', 'a', 'python', 'function', 'which', 'checks', 'if', 'a', 'number', 'is', 'a', 'perfect', 'square']\n",
            "['41', 'how', 'to', 'sort', 'a', 'list', 'in', 'python', 'using', 'lambda']\n",
            "['write', 'a', 'python', 'program', 'to', 'find', 'the', 'available', 'built', '-', 'in', 'modules', 'using', 'sys', 'and', 'textwrap', 'modules']\n",
            "['write', 'python', 'program', 'to', 'print', 'the', 'square', 'root', 'of', 'a', 'number']\n",
            "['write', 'a', 'python', 'program', 'to', 'remove', '11', 'and', '18', 'from', 'a', 'list', '.', 'print', 'the', 'final', 'list', '.']\n",
            "['write', 'a', 'python', 'function', 'to', 'clamp', 'a', 'number', 'within', 'a', 'user', 'specified', 'range']\n",
            "['write', 'a', 'python', 'function', 'to', 'find', 'volume', 'of', 'the', 'pentagonal', 'prism']\n",
            "['44', 'write', 'a', 'program', 'to', 'convert', 'celsius', 'to', 'fahrenheit']\n",
            "['write', 'a', 'function', 'to', 'calculate', 'the', 'focal', 'length', 'of', 'a', 'lense', 'buy', 'the', 'distance', 'of', 'object', 'and', 'distance', 'of', 'image', 'from', 'lense']\n",
            "['write', 'a', 'function', 'to', 'return', 'the', 'area', 'of', 'a', 'trapezium', 'with', 'base', 'a', 'base', 'b', 'and', 'height', 'h', 'between', 'parallel', 'sides']\n",
            "['write', 'a', 'program', 'to', 'split', 'and', 'join', 'a', 'string', 'with', 'a', 'hyphen', 'delimiter']\n",
            "['write', 'a', 'python', 'program', 'to', 'form', 'a', 'new', 'string', 'where', 'the', 'first', 'character', 'and', 'the', 'last', 'character', 'have', 'been', 'exchanged']\n",
            "['write', 'a', 'python', 'function', 'to', 'convert', 'decimal', 'to', 'binary']\n",
            "['write', 'a', 'python', 'function', 'to', 'print', 'a', 'given', 'string', 'n', 'times']\n",
            "['write', 'a', 'python', 'program', 'that', 'multiplies', 'a', 'tuple', 'n', 'times', 'and', 'print', 'the', 'result']\n",
            "['write', 'a', 'python', 'function', 'that', 'takes', 'a', 'list', 'and', 'returns', 'the', 'difference', 'between', 'the', 'biggest', 'and', 'smallest', 'numbers', '.']\n",
            "['5', 'write', 'a', 'program', 'to', 'print', 'negative', 'numbers', 'in', 'given', 'range']\n",
            "['write', 'a', 'python', 'function', 'to', 'compute', 'compound', 'interest']\n",
            "['write', 'a', 'python', 'function', 'to', 'replace', 'all', 'the', 'spaces', 'in', 'an', 'entered', 'string', 'with', 'a', 'hyphen', '\"', '-', '\"']\n",
            "['write', 'a', 'python', 'program', 'that', 'prints', 'the', 'area', 'of', 'a', 'square']\n",
            "['2', '.', 'python', 'function', 'to', 'return', 'the', 'factorial', 'of', 'a', 'number']\n",
            "['write', 'a', 'program', 'that', 'will', 'determine', 'the', 'memory', 'usage', 'by', 'python', 'process']\n",
            "['write', 'a', 'python', 'program', 'to', 'calculate', 'factorial', 'sum', 'using', 'list', 'comprehensive']\n",
            "['8', '.', 'python', 'program', 'to', 'convert', 'kilometers', 'to', 'miles']\n",
            "['function', 'to', 'convert', 'binary', 'to', 'gray', 'code']\n",
            "['write', 'a', 'python', 'program', 'to', 'create', 'a', 'directory', 'named', 'path']\n",
            "['write', 'a', 'python', 'program', 'to', 'check', '/', 'test', 'multiple', 'variables', 'against', 'a', 'value']\n",
            "['write', 'a', 'python', 'program', 'to', 'clone', 'a', 'list']\n",
            "['write', 'a', 'python', 'program', 'to', 'count', 'and', 'print', 'number', 'of', 'lowercase', 'characters', 'in', 'a', 'string']\n",
            "['write', 'a', 'python', 'program', 'that', 'prints', 'the', 'area', 'of', 'a', 'circle']\n",
            "['write', 'a', 'lambda', 'function', 'to', 'to', 'give', 'character', 'grom', 'it', \"'s\", 'ascii', 'value']\n",
            "['write', 'a', 'python', 'function', 'to', 'return', 'the', 'number', 'of', 'whitespace', 'separated', 'tokens']\n",
            "['write', 'a', 'python', 'function', 'to', 'convert', 'an', 'angle', 'from', 'radians', 'to', 'degrees', '.']\n",
            "['write', 'a', 'python', 'program', 'to', 'input', 'a', 'number', 'n', 'from', 'user', 'and', 'print', 'odd', 'numbers', 'from', '1', 'to', 'n']\n",
            "['write', 'a', 'python', 'program', 'which', 'will', 'find', 'all', 'such', 'numbers', 'which', 'are', 'divisible', 'by', '7', 'but', 'are', 'not', 'a', 'multiple', 'of', '5', ';', 'between', '2000', 'and', '3200', '(', 'both', 'included', ')']\n",
            "['write', 'a', 'python', 'program', 'to', 'sort', 'a', 'tuple', 'by', 'its', 'float', 'element', '.']\n",
            "['write', 'a', 'python', 'function', 'that', 'returns', 'the', 'input', 'list', 'sorted', 'in', 'descending', 'order']\n",
            "['python', 'program', 'to', 'return', 'unique', 'element', 'from', 'a', 'list']\n",
            "['write', 'a', 'python', 'function', 'that', 'takes', 'list', 'as', 'an', 'input', 'and', 'converts', 'it', 'into', 'tuple']\n",
            "['write', 'a', 'python', 'functionto', 'test', 'the', 'equality', 'of', 'the', 'float', 'numbers']\n",
            "['write', 'a', 'function', 'to', 'convert', 'weight', 'from', 'kgs', 'to', 'pounds']\n",
            "['write', 'a', 'program', 'to', 'swap', 'two', 'variables', 'inplace']\n",
            "['write', 'a', 'python', 'program', 'to', 'convert', 'paragraph', 'string', 'into', 'sentense', 'case']\n",
            "['write', 'a', 'python', 'function', 'to', 'remove', 'leading', 'zeros', 'from', 'an', 'ip', 'address']\n",
            "['write', 'a', 'python', 'program', 'to', 'prints', 'common', 'letters', 'in', 'two', 'input', 'strings']\n",
            "['16', 'how', 'to', 'add', 'list', 'numbers', 'in', 'python']\n",
            "['write', 'a', 'python', 'program', 'to', 'print', 'words', 'lengths', 'in', 'string']\n",
            "['write', 'a', 'program', 'to', 'merge', 'two', 'python', 'dictionaries']\n",
            "['write', 'a', 'python', 'function', 'to', 'convert', 'degree', 'celsius', 'to', 'degree', 'fahrenheit']\n",
            "['with', 'two', 'given', 'lists', '[', '1,3,6,78,35,55', ']', 'and', '[', '12,24,35,24,88,120,155', ']', ',', 'write', 'a', 'program', 'to', 'make', 'a', 'list', 'whose', 'elements', 'are', 'intersection', 'of', 'the', 'above', 'given', 'lists', '.']\n",
            "['25', 'write', 'a', 'funtion', 'to', 'print', 'all', 'the', 'files', 'in', 'the', 'current', 'directory']\n",
            "['write', 'a', 'python', 'function', 'to', 'convert', 'list', 'of', 'strings', 'to', 'list', 'of', 'integers']\n",
            "['write', 'a', 'function', 'to', 'adds', 'two', 'lists', 'element', 'wise', 'only', 'if', 'numbers', 'are', 'even']\n",
            "['write', 'a', 'program', 'which', 'will', 'achieve', 'given', 'a', 'python', 'list', ',', 'remove', 'all', 'occurrence', 'of', 'an', 'input', 'from', 'the', 'list']\n",
            "['write', 'a', 'function', 'to', 'return', 'the', 'perimeter', 'of', 'an', 'equilateral', 'triangle']\n",
            "['72', 'write', 'a', 'program', 'to', 'print', 'the', 'running', 'time', 'of', 'execution', 'of', '\"', '1', '+', '1', '\"', 'for', '100', 'times', '.']\n",
            "['27', 'write', 'a', 'program', 'that', 'filters', 'a', 'list', 'for', 'even', 'numbers', 'only', 'and', 'returns', 'their', 'sum']\n",
            "['write', 'a', 'function', 'to', 'calculate', 'the', 'moment', 'of', 'inertia', 'of', 'a', 'ring', 'of', 'mass', 'm', 'and', 'radius', 'r']\n",
            "['46', '.', 'python', 'function', 'for', 'finding', 'the', 'derivative', 'of', 'tangent', 'angle']\n",
            "['write', 'a', 'python', 'program', 'to', 'print', 'the', 'last', '3', 'items', 'in', 'a', 'list']\n",
            "['71', 'write', 'a', 'python', 'function', 'to', 'count', 'the', 'length', 'of', 'the', 'string']\n",
            "['write', 'a', 'python', 'function', 'that', 'returns', 'the', 'input', 'list', 'sorted', 'in', 'ascending', 'order']\n",
            "['write', 'your', 'logic', 'here']\n",
            "['write', 'a', 'function', 'to', 'calculate', 'the', 'gravitational', 'force', 'between', 'two', 'objects', 'of', 'mass', 'm1', 'and', 'm2', 'and', 'distance', 'of', 'r', 'between', 'them']\n",
            "['please', 'write', 'a', 'program', 'to', 'randomly', 'print', 'a', 'integer', 'number', 'between', '7', 'and', '15', 'inclusive', '.']\n",
            "['write', 'a', 'function', 'to', 'return', 'the', 'volume', 'of', 'a', 'cone']\n",
            "['write', 'a', 'python', 'function', 'to', 'print', 'the', 'gsd', 'of', 'two', 'numbers']\n",
            "['write', 'a', 'python', 'function', 'to', 'calculate', 'factorial', 'of', 'a', 'given', 'number']\n",
            "['write', 'a', 'python', 'function', 'to', 'return', 'octal', 'value', 'of', 'a', 'given', 'integer']\n",
            "['23', 'write', 'a', 'python', 'program', 'to', 'filter', 'similar', 'case', 'strings', 'and', 'print', 'it']\n",
            "['write', 'a', 'python', 'program', 'that', 'would', 'print', 'the', 'first', 'n', 'positive', 'integers', 'using', 'a', 'for', 'loop']\n",
            "['write', 'a', 'program', 'that', 'adds', 'the', 'square', 'of', 'two', 'numbers', 'and', 'prints', 'it']\n",
            "['write', 'a', 'python', 'function', 'to', 'find', 'the', 'factors', 'of', 'a', 'number']\n",
            "['34', '.', 'python', 'program', 'to', 'map', 'two', 'lists', 'into', 'a', 'dictionary']\n",
            "['write', 'a', 'python', 'function', 'to', 'return', 'woodall', 'numbers', '  ', 'n⋅2n', '−', '1', ',', 'with', 'n', '≥', '1', '.']\n",
            "['31', 'get', 'the', 'most', 'common', 'number', 'in', 'python']\n",
            "['write', 'a', 'python', 'program', 'to', 'print', 'shape', 'of', 'an', 'array/', 'matrix']\n",
            "['write', 'a', 'python', 'function', 'that', 'prints', 'the', 'contents', 'of', 'a', 'file', 'in', 'reverse', 'order']\n",
            "['write', 'a', 'python', 'program', 'to', 'concatenate', 'two', 'strings', 'and', 'print']\n",
            "['write', 'a', 'python', 'function', 'to', 'find', 'the', 'area', 'of', 'a', 'circle', 'using', 'the', 'user', 'provided', 'diameter']\n",
            "['write', 'a', 'python', 'function', 'to', 'append', 'all', 'elements', 'of', 'one', 'list', 'to', 'another']\n",
            "['write', 'a', 'python', 'function', 'to', 'count', 'the', 'number', 'of', 'occurrences', 'in', 'list']\n",
            "['write', 'assert', 'statements', 'to', 'verify', 'that', 'every', 'number', 'in', 'the', 'list', '[', '2,4,6,8', ']', 'is', 'even', '.']\n",
            "['write', 'a', 'function', 'to', 'convert', 'the', 'temprature', 'celsius', \"'\", 'c', \"'\", 'to', 'fahrenheit', \"'\", 'f', \"'\", 'or', 'fahrenheit', 'to', 'celsius']\n",
            "['write', 'a', 'python', 'program', 'to', 'accept', 'the', 'string', 'and', 'print', 'the', 'words', 'composed', 'of', 'digits', 'only']\n",
            "['write', 'a', 'python', 'function', 'to', 'return', 'the', 'factors', 'of', 'a', 'number']\n",
            "['write', 'a', 'python', 'program', 'that', 'alphabetically', 'sorts', 'the', 'words', 'in', 'a', 'sentence', 'and', 'prints', 'it']\n",
            "['write', 'a', 'python', 'program', 'to', 'concatenate', 'two', 'dictionaries']\n",
            "['write', 'a', 'python', 'program', 'that', 'given', 'two', 'python', 'sets', ',', 'update', 'first', 'set', 'with', 'items', 'that', 'exist', 'only', 'in', 'the', 'first', 'set', 'and', 'not', 'in', 'the', 'second', 'set', '  ', '---------------------------------------------------------']\n",
            "['write', 'a', 'python', 'program', 'to', 'input', 'a', 'string', 'from', 'user', 'and', 'convert', 'input', 'string', 'into', 'all', 'upper', 'case', 'and', 'print', 'the', 'result']\n",
            "['write', 'a', 'python', 'function', 'to', 'get', 'the', 'cumulative', 'sum', 'of', 'a', 'list']\n",
            "['write', 'a', 'program', 'that', 'multiplies', 'corresponding', 'elements', 'in', 'two', 'lists', 'and', 'prints', 'a', 'new', 'list']\n",
            "['write', 'a', 'python', 'function', 'to', 'print', 'the', 'elements', 'of', 'a', 'given', 'list', ',', 'one', 'element', 'in', 'a', 'line']\n",
            "['write', 'a', 'python', 'function', 'to', 'advance', 'the', 'iterator', 'n', '-', 'steps', 'ahead']\n",
            "['define', 'a', 'function', 'which', 'can', 'generate', 'a', 'dictionary', 'where', 'the', 'keys', 'are', 'numbers', 'between', '1', 'and', '20', '(', 'both', 'included', ')', 'and', 'the', 'values', 'are', 'square', 'of', 'keys', '.', 'the', 'function', 'should', 'just', 'print', 'the', 'keys', 'only', '.']\n",
            "['write', 'a', 'program', 'which', 'accepts', 'a', 'sequence', 'of', 'comma', '-', 'separated', 'numbers', 'from', 'console', 'and', 'generate', 'a', 'list', 'and', 'a', 'tuple', 'which', 'contains', 'every', 'number', '.']\n",
            "['write', 'a', 'python', 'function', 'that', 'takes', 'a', 'list', 'of', 'elements', 'and', 'n', 'as', 'input', ',', 'extract', 'and', 'append', 'first', 'n', 'characters', 'and', 'last', 'n', 'characters', 'of', 'each', 'string', 'and', 'return', 'the', 'resultant', 'list']\n",
            "['write', 'a', 'python', 'function', 'to', 'print', 'every', 'alternate', 'number', 'in', 'the', 'user', 'provided', 'list']\n",
            "['write', 'a', 'python', 'function', 'to', 'convert', 'from', 'celcius', 'to', 'fahrenhiet']\n",
            "['write', 'a', 'function', 'that', 'returns', 'a', 'replace', 'values', 'in', 'string', 'with', 'values', 'provided']\n",
            "['45', 'define', 'a', 'python', 'function', 'which', 'can', 'generate', 'a', 'list', 'where', 'the', 'values', 'are', 'square', 'of', 'numbers', 'between', '1', 'and', '20', '(', 'both', 'included', ')', '.', 'then', 'the', 'function', 'needs', 'to', 'print', 'the', 'last', '5', 'elements', 'in', 'the', 'list', '.']\n",
            "['write', 'a', 'python', 'function', 'that', 'removes', 'element', 'from', 'a', 'list', 'using', 'a', 'user', 'provided', 'number']\n",
            "['write', 'a', 'python', 'function', 'to', 'read', 'a', 'text', 'file', 'and', 'return', 'the', 'result']\n",
            "['55', 'write', 'a', 'python', 'program', 'to', 'extract', ' ', 'n', 'largest', 'dictionaries', 'keys', 'and', 'print', 'it']\n",
            "['write', 'a', 'python', 'program', 'to', 'convert', 'a', 'list', 'of', 'values', 'in', 'kilometers', 'to', 'feet']\n",
            "['write', 'a', 'python', 'function', 'to', 'convert', 'binary', 'to', 'gray', 'codeword']\n",
            "['write', 'a', 'function', 'that', 'returns', 'derivative', 'derivative', 'relu', 'value', 'of', 'the', 'input']\n",
            "['write', 'a', 'program', 'to', 'binary', 'left', 'shift', 'a', 'number']\n",
            "['by', 'using', 'list', 'comprehension', ',', 'please', 'write', 'a', 'program', 'to', 'print', 'the', 'list', 'after', 'removing', 'the', '0th,4th,5th', 'numbers', 'in', '[', '12,24,35,70,88,120,155', ']', '.']\n",
            "['write', 'a', 'python', 'program', 'to', 'check', 'whether', 'a', 'person', 'is', 'eligible', 'to', 'vote', 'or', 'not']\n",
            "['write', 'a', 'python', 'script', 'to', 'generate', 'and', 'print', 'a', 'dictionary', 'that', 'contains', 'a', 'number', '(', 'between', '1', 'and', 'n', ')', 'in', 'the', 'form', '(', 'x', ',', 'x*x', ')']\n",
            "['write', 'a', 'program', 'that', 'subtracts', 'corresponding', 'elements', 'in', 'two', 'lists', 'and', 'prints', 'a', 'new', 'list']\n",
            "['write', 'a', 'program', 'which', 'can', 'map', '(', ')', 'and', 'filter', '(', ')', 'to', 'make', 'a', 'list', 'whose', 'elements', 'are', 'square', 'of', 'even', 'number', 'in', '[', '1,2,3,4,5,6,7,8,9,10', ']', '.']\n",
            "['write', 'a', 'python', 'program', 'which', 'takes', 'user', 'input', 'tuple', 'and', 'prints', 'length', 'of', 'each', 'tuple', 'element']\n",
            "['write', 'a', 'function', 'to', 'calculate', 'the', 'current', 'in', 'the', 'curcit', 'where', 'the', 'resistance', 'is', 'r', 'and', 'voltage', 'is', 'v']\n",
            "['convert', 'decimal', 'number', 'to', 'octal']\n",
            "['define', 'a', 'function', 'that', 'can', 'receive', 'two', 'integral', 'numbers', 'in', 'string', 'form', 'and', 'compute', 'their', 'sum', 'and', 'then', 'print', 'it', 'in', 'console', '.']\n",
            "['please', 'write', 'a', 'program', 'which', 'accepts', 'basic', 'mathematic', 'expression', 'from', 'console', 'and', 'print', 'the', 'evaluation', 'result', '.']\n",
            "['write', 'a', 'program', 'which', 'accepts', 'basic', 'mathematic', 'expression', 'from', 'console', 'and', 'print', 'the', 'evaluation', 'result', '.']\n",
            "['write', 'a', 'program', 'to', 'remove', 'the', 'leading', 'and', 'trailing', 'characters']\n",
            "['write', 'a', 'python', 'program', 'to', 'print', 'the', 'sum', 'of', 'first', 'n', 'natural', 'numbers']\n",
            "['write', 'a', 'recursive', 'python', 'function', 'that', 'would', 'return', 'the', 'sum', 'of', 'first', 'n', 'natural', 'numbers', ',', 'where', 'n', 'is', 'the', 'input']\n",
            "['write', 'a', 'program', 'which', 'can', 'map', '(', ')', 'to', 'make', 'a', 'list', 'whose', 'elements', 'are', 'square', 'of', 'elements', 'in', '[', '1,2,3,4,5,6,7,8,9,10', ']', '.']\n",
            "['write', 'a', 'function', 'to', 'calculate', 'the', 'kinetic', 'energy', 'of', 'an', 'object', 'of', 'mass', 'm', 'and', 'velocity', 'v']\n",
            "['write', 'a', 'function', 'to', 'calculate', 'bmi', 'given', 'height', 'in', 'meters', 'and', 'weights', 'in', 'kgs']\n",
            "['write', 'a', 'python', 'function', 'to', 'convert', 'list', 'of', 'strings', 'to', 'list', 'of', 'integers']\n",
            "['write', 'a', 'python', 'function', 'that', 'given', 'a', 'string', ',', 'display', 'only', 'those', 'characters', 'which', 'are', 'present', 'at', 'an', 'even', 'index', 'number']\n",
            "['write', 'a', 'python', 'program', 'to', 'subtract', 'a', 'week', '(', '7', 'days', ')', 'from', 'a', 'given', 'date', 'in', 'python']\n",
            "['write', 'a', 'python', 'fuction', 'to', 'create', 'an', 'empty', 'list']\n",
            "['write', 'a', 'program', 'to', 'delete', 'a', '3rd', 'character', 'from', 'a', 'given', 'string']\n",
            "['write', 'a', 'function', 'to', 'return', 'the', 'area', 'of', 'a', 'right', 'angle', 'triangle']\n",
            "['write', 'a', 'python', 'program', 'to', 'replace', 'each', 'word', 'in', 'a', 'sentence', 'with', 'the', 'length', 'of', 'the', 'word', 'and', 'print', 'it']\n",
            "['write', 'a', 'python', 'program', 'to', 'count', 'the', 'number', 'of', 'lower', 'case', 'in', 'a', 'string']\n",
            "['write', 'a', 'python', 'fuction', 'to', 'create', 'an', 'empty', 'list']\n",
            "['write', 'a', 'python', 'function', 'to', 'return', 'the', 'nth', 'fibonacci', 'number']\n",
            "['write', 'a', 'python', 'program', 'to', 'print', 'the', 'smallest', 'number', 'in', 'a', 'list']\n",
            "['write', 'a', 'function', 'to', 'return', 'the', 'cartisian', 'distance', 'of', 'a', 'point', 'from', 'origin']\n",
            "['write', 'a', 'python', 'program', 'to', 'handle', 'exception', 'when', 'a', 'given', 'value', 'is', 'less', 'than', '10']\n",
            "['write', 'a', 'function', 'to', 'return', 'the', 'area', 'of', 'a', 'square']\n",
            "['write', 'a', 'python', 'program', 'to', 'explain', 'the', 'generator']\n",
            "['write', 'a', 'python', 'program', 'to', 'create', 'a', 'timeseries', 'starting', '‘', '2000', '-', '01', '-', '01', '’', 'and', '10', 'weekends', '(', 'saturdays', ')', 'after', 'that', 'having', 'random', 'numbers', 'as', 'values']\n",
            "['write', 'a', 'python', 'program', 'to', 'find', 'the', 'second', 'largest', 'number', 'in', 'a', 'list']\n",
            "['write', 'a', 'program', 'to', 'find', 'intersection']\n",
            "['write', 'a', 'python', 'function', 'that', 'takes', 'in', 'two', 'numbers', 'and', 'returns', 'their', 'hcf']\n",
            "['write', 'a', 'python', 'program', 'using', 'list', 'comprehension', 'to', 'produce', 'and', 'print', 'the', 'list', '[', '(', '1', ',', '1', ')', ',', '(', '2', ',', '1', ')', ',', '(', '3', ',', '1', ')', ',', '(', '1', ',', '2', ')', ',', '(', '2', ',', '2', ')', ',', '(', '3', ',', '2', ')', ',', '(', '1', ',', '3', ')', ',', '(', '2', ',', '3', ')', ',', '(', '3', ',', '3', ')', ']']\n",
            "['write', 'a', 'python', 'program', 'to', 'count', 'the', 'len', 'of', 'unique', 'elements']\n",
            "['81', 'write', 'a', 'python', 'program', 'to', 'convert', 'a', 'given', 'bytearray', 'to', 'hexadecimal', 'string', '.']\n",
            "['write', 'a', 'function', 'to', 'find', 'power', 'of', 'number', 'using', 'recursion']\n",
            "['write', 'a', 'program', 'to', 'check', 'if', 'a', 'substring', 'is', 'present', 'in', 'a', 'given', 'string']\n",
            "['write', 'a', 'function', 'that', 'returns', 'sum', 'of', 'all', 'elements', 'in', 'the', 'list']\n",
            "['assuming', 'that', 'we', 'have', 'some', 'email', 'addresses', 'in', 'the', '\"', 'username@companyname.com', '\"', 'format', ',', 'please', 'write', 'program', 'to', 'print', 'the', 'user', 'name', 'of', 'a', 'given', 'email', 'address', '.', 'both', 'user', 'names', 'and', 'company', 'names', 'are', 'composed', 'of', 'letters', 'only', '.']\n",
            "['write', 'a', 'function', 'to', 'return', 'the', 'cartisian', 'distance', 'between', 'two', 'points']\n",
            "['write', 'a', 'function', 'to', 'return', 'the', 'sum', 'of', 'the', 'roots', 'of', 'a', 'quadratic', 'equation', 'ax**2', '+', 'bx', '+', 'c', '=', '0']\n",
            "['write', 'a', 'lambda', 'function', 'that', 'gives', 'true', 'if', 'the', 'input', 'number', 'is', 'even', 'otherwise', 'false']\n",
            "['write', 'a', 'program', 'to', 'join', 'all', 'items', 'in', 'a', 'tuple', 'into', 'a', 'string', ',', 'using', 'a', 'hash', 'character', 'as', 'separator']\n",
            "['write', 'a', 'python', 'program', 'to', 'delete', 'an', 'element', 'from', 'a', 'list']\n",
            "['write', 'a', 'program', 'to', 'break', 'up', 'string', 'into', 'individual', 'elements']\n",
            "['write', 'a', 'python', 'function', 'to', 'find', 'the', 'area', 'of', 'a', 'circle', ',', 'whose', 'radius', 'is', 'given']\n",
            "['write', 'a', 'python', 'program', 'to', 'create', 'a', 'dictionary', 'with', 'numbers', '1', 'to', '5', 'as', 'keys', 'and', 'the', 'numbers', 'in', 'english', 'as', 'values']\n",
            "['define', 'a', 'function', 'which', 'can', 'generate', 'and', 'print', 'a', 'list', 'where', 'the', 'values', 'are', 'square', 'of', 'numbers', 'between', '1', 'and', '20', '(', 'both', 'included', ')', '.']\n",
            "['write', 'a', 'python', 'function', 'to', 'get', 'the', 'volume', 'of', 'a', 'prism', 'with', 'base', 'area', '&', 'height', 'as', 'input']\n",
            "['7', 'write', 'a', 'python', 'function', 'to', 'return', 'every', 'second', 'number', 'from', 'a', 'list']\n",
            "['15', 'how', 'to', 'add', 'extra', 'zeros', 'after', 'decimal', 'in', 'python']\n",
            "['write', 'a', 'python', 'function', 'which', 'takes', 'length', ',', 'breadth', 'as', 'user', 'input', 'and', 'returns', 'the', 'area', 'of', 'rectangle', '.']\n",
            "['write', 'a', 'python', 'program', 'to', 'swap', 'tuple', 'elements', 'in', 'list', 'of', 'tuples', '.', 'print', 'the', 'output', '.']\n",
            "['write', 'a', 'function', 'to', 'return', 'the', 'time', 'taken', 'by', 'a', 'given', 'of', 'moving', 'object', 'based', 'of', 'distance', 'travelled', 'in', 'given', 'time']\n",
            "['write', 'a', 'function', 'to', 'calculate', 'the', 'compound', 'interest', 'for', 'principal', 'p', ',', 'rate', 'r', 'and', 'time', 'in', 'years', 'y']\n",
            "['write', 'a', 'python', 'program', 'to', 'find', 'the', 'first', 'repeated', 'character', 'in', 'a', 'given', 'string']\n",
            "['write', 'a', 'python', 'function', 'that', 'takes', 'two', 'numbers', '.', 'the', 'function', 'divides', 'the', 'first', 'number', 'by', 'the', 'second', 'and', 'returns', 'the', 'answer', '.', 'the', 'function', 'returns', 'none', ',', 'if', 'the', 'second', 'number', 'is', '0']\n",
            "['write', 'a', 'python', 'program', 'to', 'iterate', 'through', 'a', 'string', 'using', 'lambda', 'and', 'print', 'the', 'result']\n",
            "['write', 'a', 'function', 'that', 'returns', 'gets', 'the', 'derivative', 'of', 'exponential', 'of', 'x']\n",
            "['write', 'a', 'python', 'program', 'to', 'print', 'the', 'list', 'after', 'removing', 'the', '0th', ',', '2nd', ',', '4th,6th', 'numbers', 'in', '[', '12,24,35,70,88,120,155', ']', '.']\n",
            "['write', 'a', 'funtion', 'that', 'accepts', 'two', 'lists', 'of', 'equal', 'length', 'and', 'converts', 'them', 'into', 'a', 'dictioinary']\n",
            "['write', 'a', 'python', 'function', 'that', 'would', 'reverse', 'the', 'given', 'string']\n",
            "['write', 'a', 'python', 'program', 'to', 'convert', 'a', 'list', 'of', 'tuples', 'into', 'a', 'dictionary', '.']\n",
            "['write', 'python', 'program', 'to', 'demonstrate', 'printing', 'of', 'complete', 'multidimensional', 'list', 'row', 'by', 'row', '.']\n",
            "['52', 'write', 'a', 'python', 'program', 'to', 'normalize', 'a', 'list', 'of', 'numbers', 'and', 'print', 'the', 'result']\n",
            "['write', 'a', 'python', 'function', 'that', 'takes', 'a', 'list', 'as', 'an', 'input', 'and', 'converts', 'all', 'numbers', 'to', 'positive', 'numbers', 'and', 'returns', 'the', 'new', 'list']\n",
            "['write', 'a', 'python', 'function', 'to', 'get', 'the', 'surface_area', 'of', 'a', 'cylinder', 'with', 'radius', '&', 'height', 'as', 'input']\n",
            "['return', 'the', 'converted', 'temprature']\n",
            "['write', 'a', 'python', 'program', ' ', 'to', 'shuffle', 'deck', 'of', 'cards']\n",
            "['write', 'a', 'function', 'to', 'return', 'the', 'area', 'of', 'an', 'ellipse']\n",
            "['write', 'a', 'function', 'to', 'return', 'the', 'speed', 'of', 'moving', 'object', 'based', 'of', 'distance', 'travelled', 'in', 'given', 'time']\n",
            "['write', 'a', 'python', 'function', 'to', 'check', 'if', 'a', 'string', 'is', 'a', 'palindrome', 'or', 'not']\n",
            "['write', 'a', 'regex', 'pattern', 'in', 'python', 'to', 'print', 'all', 'adverbs', 'and', 'their', 'positions', 'in', 'user', 'input', 'text']\n",
            "['write', 'a', 'python', 'function', 'to', 'accept', 'user', 'input', 'to', 'continue']\n",
            "['write', 'a', 'python', 'program', 'to', 'concatenate', 'two', 'dictionaries', 'into', 'one']\n",
            "['write', 'a', 'python', 'program', 'to', 'print', 'anonymous', 'function', 'to', 'find', 'all', 'the', 'numbers', 'divisible', 'by', '13', 'in', 'the', 'list', '.']\n",
            "['write', 'a', 'python', 'function', 'to', 'get', 'the', 'maximum', 'element', 'in', 'a', 'list']\n",
            "['write', 'a', 'python', 'function', 'to', 'transpose', 'a', 'user', 'provided', 'two', 'dimensional', 'list']\n",
            "['write', 'a', 'program', 'to', 'create', 'a', 'string', 'variable', 'and', 'print', 'the', 'amount', 'of', 'memory', 'it', 'consumes']\n",
            "['please', 'write', 'a', 'program', 'to', 'output', 'a', 'random', 'even', 'number', 'between', '0', 'and', '10', 'inclusive', 'using', 'random', 'module', 'and', 'list', 'comprehension', '.']\n",
            "['70', 'write', 'a', 'program', 'to', 'display', 'the', 'powers', 'of', '2', 'using', 'anonymous', 'function']\n",
            "['write', 'a', 'python', 'program', 'that', 'takes', 'two', 'sets', 'as', 'input', 'and', 'print', 'the', 'common', 'elements']\n",
            "['write', 'a', 'function', 'to', 'calculate', 'the', 'new', 'selling', 'price', 'based', 'on', 'discount', 'percentage']\n",
            "['write', 'a', 'python', 'program', 'to', 'index', 'every', '4th', 'character', 'from', 'the', 'below', 'string']\n",
            "['write', 'a', 'python', 'function', 'that', 'returns', 'a', 'dictionary', 'with', 'the', 'area', 'and', 'perimeter', 'of', 'a', 'rectangle']\n",
            "['write', 'a', 'python', 'program', 'to', 'check', 'if', 'a', 'number', 'is', 'positive', ',', 'negative', 'or', '0']\n",
            "['43', 'define', 'a', 'function', 'which', 'returns', 'the', 'current', 'working', 'directory']\n",
            "['write', 'a', 'function', 'to', 'return', 'the', 'volume', 'of', 'a', 'hemi', 'sphere']\n",
            "['write', 'a', 'python', 'function', 'to', 'add', '2', 'iterables', 'a', 'and', 'b', 'such', 'that', 'a', 'is', 'even', 'and', 'b', 'is', 'odd']\n",
            "['write', 'a', 'python', 'function', 'that', 'would', 'return', 'the', 'sum', 'of', 'first', 'n', 'natural', 'numbers', ',', 'where', 'n', 'is', 'the', 'input']\n",
            "['write', 'a', 'python', 'function', 'to', 'print', 'whether', 'a', 'number', 'is', 'negative', ',', 'positive', 'or', 'zero']\n",
            "['write', 'a', 'python', 'program', 'to', 'convert', 'a', 'tuple', 'to', 'a', 'string', '.']\n",
            "['write', 'a', 'program', 'which', 'will', 'find', 'all', 'such', 'numbers', 'which', 'are', 'divisible', 'by', '7', 'but', 'are', 'not', 'a', 'multiple', 'of', '5', ',', 'between', '2000', 'and', '3200', '(', 'both', 'included', ')', '.', '  ', 'the', 'numbers', 'obtained', 'should', 'be', 'printed', 'in', 'a', 'comma', '-', 'separated', 'sequence', 'on', 'a', 'single', 'line', '.']\n",
            "['write', 'a', 'python', 'function', 'to', 'print', 'a', 'given', 'string', 'n', 'times']\n",
            "['49', '.', 'python', 'function', 'for', 'finding', 'the', 'logarithmic', 'value', 'of', 'a', 'number']\n",
            "['6', 'write', 'a', 'function', 'to', 'print', 'merger', 'of', 'two', 'dictionary']\n",
            "['write', 'a', 'function', 'that', 'returns', 'tan', 'value', 'of', 'the', 'input']\n",
            "['write', 'a', 'function', 'to', 'return', 'the', 'area', 'of', 'a', 'rhombus']\n",
            "['write', 'a', 'python', 'function', 'to', 'call', 'a', 'user', '-', 'input', 'function', 'with', 'default', 'exception', 'handling', 'and', 're', '-', 'raise', 'the', 'exception', 'again', '.']\n",
            "['write', 'a', 'function', 'to', 'return', 'day', 'of', 'a', 'week', ',', 'given', 'the', 'number']\n",
            "['write', 'a', 'python', 'program', 'to', 'print', 'the', 'combination', 'of', 'tuples', 'in', 'list', 'of', 'tuples']\n",
            "['write', 'a', 'function', 'to', 'return', 'the', 'volume', 'of', 'a', 'cube']\n",
            "['write', 'a', 'python', 'program', 'to', 'print', 'all', 'prime', 'numbers', 'in', 'an', 'interval']\n",
            "['write', 'a', 'python', 'function', 'that', 'would', 'print', 'the', 'ascii', 'value', 'of', 'a', 'given', 'character']\n",
            "['write', 'a', 'python', 'function', 'which', 'takes', 'a', 'number', 'as', 'user', 'input', 'and', 'print', 'square', ',', 'and', 'cube', 'of', 'the', 'number']\n",
            "['53', '.', 'python', 'function', 'for', 'finding', 'the', 'derivative', 'of', 'hyperbolic', 'tangent', 'value', 'of', 'a', 'number']\n",
            "['write', 'a', 'python', 'program', 'to', 'sort', 'and', 'print', 'a', 'list']\n",
            "['make', 'a', 'copy', 'of', 'a', 'tuple', 'using', 'deepcopy', '(', ')', 'function']\n",
            "['write', 'a', 'function', 'to', 'return', 'the', 'area', 'of', 'an', 'ellipse']\n",
            "['write', 'a', 'function', 'to', 'calculate', 'the', 'current', 'in', 'the', 'curcit', 'where', 'the', 'resistance', 'is', 'r', 'and', 'voltage', 'is', 'v']\n",
            "['write', 'a', 'python', 'function', 'that', 'takes', 'a', 'list', 'as', 'an', 'input', 'and', 'converts', 'all', 'numbers', 'to', 'positive', 'numbers', 'and', 'returns', 'the', 'new', 'list']\n",
            "['write', 'a', 'python', 'program', 'to', 'print', 'sum', 'of', 'natural', 'numbers', 'up', 'to', 'num']\n",
            "['99', 'write', 'a', ' ', 'python', 'function', 'that', 'accepts', 'a', 'string', 'and', 'reverses', 'it']\n",
            "['write', 'a', 'python', 'function', 'to', 'get', 'the', 'volume', 'of', 'a', 'cylinder', 'with', 'radius', '&', 'height', 'as', 'input']\n",
            "['write', 'a', 'python', 'function', 'to', 'do', 'bitwise', 'multiplication', 'on', 'a', 'given', 'bin', 'number', 'by', 'given', 'shifts']\n",
            "['write', 'a', 'python', 'code', 'to', 'implement', 'sigmoid', 'function']\n",
            "['write', 'a', 'python', 'function', 'to', 'identify', 'type', 'of', 'given', 'data', 'structure']\n",
            "['write', 'a', 'function', 'to', 'calculate', 'the', 'gravitational', 'force', 'between', 'two', 'objects', 'of', 'mass', 'm1', 'and', 'm2', 'and', 'distance', 'of', 'r', 'between', 'them']\n",
            "['write', 'a', 'python', 'program', 'to', 'add', 'two', 'list', 'using', 'python', 'zip', 'method']\n",
            "['write', 'a', 'python', 'program', 'to', 'convert', 'uppercase', 'string', 'to', 'lower']\n",
            "['write', 'a', 'function', 'to', 'count', 'the', 'number', 'of', 'digits', 'in', 'a', 'number']\n",
            "['write', 'a', 'function', 'that', 'returns', 'a', 'list', 'sorted', 'ascending']\n",
            "['write', 'a', 'program', 'to', 'print', 'number', 'of', 'words', 'in', 'a', 'string']\n",
            "['write', 'a', 'python', 'program', 'to', 'check', 'if', 'a', 'number', 'is', 'a', 'prime', 'number']\n",
            "['write', 'a', 'python', 'program', 'to', 'convert', 'string', 'into', 'a', 'datetime', 'object']\n",
            "['write', 'a', 'function', 'to', 'adds', 'two', 'lists', 'element', 'wise']\n",
            "['write', 'python3', 'code', 'to', 'demonstrate', 'to', 'create', 'a', 'substring', 'from', 'string']\n",
            "['write', 'a', 'function', 'to', 'replace', 'all', 'occurances', 'of', 'a', 'substring', 'in', 'a', 'string']\n",
            "['write', 'a', 'program', 'to', 'find', 'union', 'of', '2', 'arrays']\n",
            "['write', 'a', 'function', 'to', 'return', 'the', 'area', 'of', 'a', 'square']\n",
            "['57', 'write', 'a', 'python', 'function', 'to', 'find', 'the', 'single', 'number', 'in', 'a', 'list', 'that', 'does', \"n't\", 'occur', 'twice', '.']\n",
            "['write', 'a', 'python', 'function', 'to', 'count', 'number', 'of', 'lists', 'in', 'a', 'list', 'of', 'lists']\n"
          ],
          "name": "stdout"
        },
        {
          "output_type": "error",
          "ename": "IndexError",
          "evalue": "ignored",
          "traceback": [
            "\u001b[0;31m---------------------------------------------------------------------------\u001b[0m",
            "\u001b[0;31mIndexError\u001b[0m                                Traceback (most recent call last)",
            "\u001b[0;32m<ipython-input-65-fdbcc13fd3c5>\u001b[0m in \u001b[0;36m<module>\u001b[0;34m()\u001b[0m\n\u001b[0;32m----> 1\u001b[0;31m \u001b[0mbleu_score\u001b[0m \u001b[0;34m=\u001b[0m \u001b[0mcalculate_bleu\u001b[0m\u001b[0;34m(\u001b[0m\u001b[0mtest_data\u001b[0m\u001b[0;34m,\u001b[0m \u001b[0mSRC\u001b[0m\u001b[0;34m,\u001b[0m \u001b[0mTRG\u001b[0m\u001b[0;34m,\u001b[0m \u001b[0mmodel\u001b[0m\u001b[0;34m,\u001b[0m \u001b[0mdevice\u001b[0m\u001b[0;34m)\u001b[0m\u001b[0;34m\u001b[0m\u001b[0;34m\u001b[0m\u001b[0m\n\u001b[0m\u001b[1;32m      2\u001b[0m \u001b[0;34m\u001b[0m\u001b[0m\n\u001b[1;32m      3\u001b[0m \u001b[0mprint\u001b[0m\u001b[0;34m(\u001b[0m\u001b[0;34mf'BLEU score = {bleu_score*100:.2f}'\u001b[0m\u001b[0;34m)\u001b[0m\u001b[0;34m\u001b[0m\u001b[0;34m\u001b[0m\u001b[0m\n",
            "\u001b[0;32m<ipython-input-64-7d9d8b176fbd>\u001b[0m in \u001b[0;36mcalculate_bleu\u001b[0;34m(data, src_field, trg_field, model, device, max_len)\u001b[0m\n\u001b[1;32m     19\u001b[0m         \u001b[0mtrgs\u001b[0m\u001b[0;34m.\u001b[0m\u001b[0mappend\u001b[0m\u001b[0;34m(\u001b[0m\u001b[0;34m[\u001b[0m\u001b[0mtrg\u001b[0m\u001b[0;34m]\u001b[0m\u001b[0;34m)\u001b[0m\u001b[0;34m\u001b[0m\u001b[0;34m\u001b[0m\u001b[0m\n\u001b[1;32m     20\u001b[0m \u001b[0;34m\u001b[0m\u001b[0m\n\u001b[0;32m---> 21\u001b[0;31m     \u001b[0;32mreturn\u001b[0m \u001b[0mbleu_score\u001b[0m\u001b[0;34m(\u001b[0m\u001b[0mpred_trgs\u001b[0m\u001b[0;34m,\u001b[0m \u001b[0mtrgs\u001b[0m\u001b[0;34m)\u001b[0m\u001b[0;34m\u001b[0m\u001b[0;34m\u001b[0m\u001b[0m\n\u001b[0m",
            "\u001b[0;32m/usr/local/lib/python3.7/dist-packages/torchtext/data/metrics.py\u001b[0m in \u001b[0;36mbleu_score\u001b[0;34m(candidate_corpus, references_corpus, max_n, weights)\u001b[0m\n\u001b[1;32m     81\u001b[0m \u001b[0;34m\u001b[0m\u001b[0m\n\u001b[1;32m     82\u001b[0m         \u001b[0;32mfor\u001b[0m \u001b[0mngram\u001b[0m \u001b[0;32min\u001b[0m \u001b[0mclipped_counter\u001b[0m\u001b[0;34m:\u001b[0m\u001b[0;34m\u001b[0m\u001b[0;34m\u001b[0m\u001b[0m\n\u001b[0;32m---> 83\u001b[0;31m             \u001b[0mclipped_counts\u001b[0m\u001b[0;34m[\u001b[0m\u001b[0mlen\u001b[0m\u001b[0;34m(\u001b[0m\u001b[0mngram\u001b[0m\u001b[0;34m)\u001b[0m \u001b[0;34m-\u001b[0m \u001b[0;36m1\u001b[0m\u001b[0;34m]\u001b[0m \u001b[0;34m+=\u001b[0m \u001b[0mclipped_counter\u001b[0m\u001b[0;34m[\u001b[0m\u001b[0mngram\u001b[0m\u001b[0;34m]\u001b[0m\u001b[0;34m\u001b[0m\u001b[0;34m\u001b[0m\u001b[0m\n\u001b[0m\u001b[1;32m     84\u001b[0m \u001b[0;34m\u001b[0m\u001b[0m\n\u001b[1;32m     85\u001b[0m         \u001b[0;32mfor\u001b[0m \u001b[0mngram\u001b[0m \u001b[0;32min\u001b[0m \u001b[0mcandidate_counter\u001b[0m\u001b[0;34m:\u001b[0m  \u001b[0;31m# TODO: no need to loop through the whole counter\u001b[0m\u001b[0;34m\u001b[0m\u001b[0;34m\u001b[0m\u001b[0m\n",
            "\u001b[0;31mIndexError\u001b[0m: index 5 is out of bounds for dimension 0 with size 4"
          ]
        }
      ]
    },
    {
      "cell_type": "code",
      "metadata": {
        "id": "tBp2QYMzQM4F"
      },
      "source": [
        ""
      ],
      "execution_count": null,
      "outputs": []
    }
  ]
}